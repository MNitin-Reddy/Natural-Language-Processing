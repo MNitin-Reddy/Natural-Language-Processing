{
 "cells": [
  {
   "cell_type": "code",
   "execution_count": 1,
   "id": "f7014edf",
   "metadata": {},
   "outputs": [],
   "source": [
    "import pandas as pd"
   ]
  },
  {
   "cell_type": "code",
   "execution_count": 71,
   "id": "88e6340f",
   "metadata": {},
   "outputs": [
    {
     "data": {
      "text/plain": [
       "(20, 2)"
      ]
     },
     "execution_count": 71,
     "metadata": {},
     "output_type": "execute_result"
    }
   ],
   "source": [
    "data = pd.read_csv(r\"data/IMDB Dataset.csv\", nrows=20)\n",
    "data.shape"
   ]
  },
  {
   "cell_type": "code",
   "execution_count": 38,
   "id": "a1b9c689",
   "metadata": {},
   "outputs": [
    {
     "data": {
      "text/html": [
       "<div>\n",
       "<style scoped>\n",
       "    .dataframe tbody tr th:only-of-type {\n",
       "        vertical-align: middle;\n",
       "    }\n",
       "\n",
       "    .dataframe tbody tr th {\n",
       "        vertical-align: top;\n",
       "    }\n",
       "\n",
       "    .dataframe thead th {\n",
       "        text-align: right;\n",
       "    }\n",
       "</style>\n",
       "<table border=\"1\" class=\"dataframe\">\n",
       "  <thead>\n",
       "    <tr style=\"text-align: right;\">\n",
       "      <th></th>\n",
       "      <th>review</th>\n",
       "      <th>sentiment</th>\n",
       "    </tr>\n",
       "  </thead>\n",
       "  <tbody>\n",
       "    <tr>\n",
       "      <th>0</th>\n",
       "      <td>One of the other reviewers has mentioned that ...</td>\n",
       "      <td>positive</td>\n",
       "    </tr>\n",
       "    <tr>\n",
       "      <th>1</th>\n",
       "      <td>A wonderful little production. &lt;br /&gt;&lt;br /&gt;The...</td>\n",
       "      <td>positive</td>\n",
       "    </tr>\n",
       "    <tr>\n",
       "      <th>2</th>\n",
       "      <td>I thought this was a wonderful way to spend ti...</td>\n",
       "      <td>positive</td>\n",
       "    </tr>\n",
       "    <tr>\n",
       "      <th>3</th>\n",
       "      <td>Basically there's a family where a little boy ...</td>\n",
       "      <td>negative</td>\n",
       "    </tr>\n",
       "    <tr>\n",
       "      <th>4</th>\n",
       "      <td>Petter Mattei's \"Love in the Time of Money\" is...</td>\n",
       "      <td>positive</td>\n",
       "    </tr>\n",
       "  </tbody>\n",
       "</table>\n",
       "</div>"
      ],
      "text/plain": [
       "                                              review sentiment\n",
       "0  One of the other reviewers has mentioned that ...  positive\n",
       "1  A wonderful little production. <br /><br />The...  positive\n",
       "2  I thought this was a wonderful way to spend ti...  positive\n",
       "3  Basically there's a family where a little boy ...  negative\n",
       "4  Petter Mattei's \"Love in the Time of Money\" is...  positive"
      ]
     },
     "execution_count": 38,
     "metadata": {},
     "output_type": "execute_result"
    }
   ],
   "source": [
    "data.head()"
   ]
  },
  {
   "cell_type": "code",
   "execution_count": 8,
   "id": "90fee4aa",
   "metadata": {},
   "outputs": [
    {
     "data": {
      "text/html": [
       "<div>\n",
       "<style scoped>\n",
       "    .dataframe tbody tr th:only-of-type {\n",
       "        vertical-align: middle;\n",
       "    }\n",
       "\n",
       "    .dataframe tbody tr th {\n",
       "        vertical-align: top;\n",
       "    }\n",
       "\n",
       "    .dataframe thead th {\n",
       "        text-align: right;\n",
       "    }\n",
       "</style>\n",
       "<table border=\"1\" class=\"dataframe\">\n",
       "  <thead>\n",
       "    <tr style=\"text-align: right;\">\n",
       "      <th></th>\n",
       "      <th>review</th>\n",
       "      <th>sentiment</th>\n",
       "    </tr>\n",
       "  </thead>\n",
       "  <tbody>\n",
       "    <tr>\n",
       "      <th>3537</th>\n",
       "      <td>Quite what the producers of this appalling ada...</td>\n",
       "      <td>negative</td>\n",
       "    </tr>\n",
       "    <tr>\n",
       "      <th>3769</th>\n",
       "      <td>My favourite police series of all time turns t...</td>\n",
       "      <td>positive</td>\n",
       "    </tr>\n",
       "    <tr>\n",
       "      <th>4391</th>\n",
       "      <td>Beautiful film, pure Cassavetes style. Gena Ro...</td>\n",
       "      <td>positive</td>\n",
       "    </tr>\n",
       "  </tbody>\n",
       "</table>\n",
       "</div>"
      ],
      "text/plain": [
       "                                                 review sentiment\n",
       "3537  Quite what the producers of this appalling ada...  negative\n",
       "3769  My favourite police series of all time turns t...  positive\n",
       "4391  Beautiful film, pure Cassavetes style. Gena Ro...  positive"
      ]
     },
     "execution_count": 8,
     "metadata": {},
     "output_type": "execute_result"
    }
   ],
   "source": [
    "data[data['review'].duplicated()]"
   ]
  },
  {
   "cell_type": "code",
   "execution_count": 11,
   "id": "1d544091",
   "metadata": {},
   "outputs": [
    {
     "name": "stdout",
     "output_type": "stream",
     "text": [
      "<class 'pandas.core.frame.DataFrame'>\n",
      "RangeIndex: 5000 entries, 0 to 4999\n",
      "Data columns (total 2 columns):\n",
      " #   Column     Non-Null Count  Dtype \n",
      "---  ------     --------------  ----- \n",
      " 0   review     5000 non-null   object\n",
      " 1   sentiment  5000 non-null   object\n",
      "dtypes: object(2)\n",
      "memory usage: 78.3+ KB\n"
     ]
    }
   ],
   "source": [
    "data.info()"
   ]
  },
  {
   "cell_type": "markdown",
   "id": "43d2f621",
   "metadata": {},
   "source": [
    "## Text Preprocessing"
   ]
  },
  {
   "cell_type": "code",
   "execution_count": 72,
   "id": "e317a42a",
   "metadata": {},
   "outputs": [
    {
     "data": {
      "text/html": [
       "<div>\n",
       "<style scoped>\n",
       "    .dataframe tbody tr th:only-of-type {\n",
       "        vertical-align: middle;\n",
       "    }\n",
       "\n",
       "    .dataframe tbody tr th {\n",
       "        vertical-align: top;\n",
       "    }\n",
       "\n",
       "    .dataframe thead th {\n",
       "        text-align: right;\n",
       "    }\n",
       "</style>\n",
       "<table border=\"1\" class=\"dataframe\">\n",
       "  <thead>\n",
       "    <tr style=\"text-align: right;\">\n",
       "      <th></th>\n",
       "      <th>review</th>\n",
       "      <th>sentiment</th>\n",
       "    </tr>\n",
       "  </thead>\n",
       "  <tbody>\n",
       "    <tr>\n",
       "      <th>0</th>\n",
       "      <td>one of the other reviewers has mentioned that ...</td>\n",
       "      <td>positive</td>\n",
       "    </tr>\n",
       "    <tr>\n",
       "      <th>1</th>\n",
       "      <td>a wonderful little production. &lt;br /&gt;&lt;br /&gt;the...</td>\n",
       "      <td>positive</td>\n",
       "    </tr>\n",
       "    <tr>\n",
       "      <th>2</th>\n",
       "      <td>i thought this was a wonderful way to spend ti...</td>\n",
       "      <td>positive</td>\n",
       "    </tr>\n",
       "  </tbody>\n",
       "</table>\n",
       "</div>"
      ],
      "text/plain": [
       "                                              review sentiment\n",
       "0  one of the other reviewers has mentioned that ...  positive\n",
       "1  a wonderful little production. <br /><br />the...  positive\n",
       "2  i thought this was a wonderful way to spend ti...  positive"
      ]
     },
     "execution_count": 72,
     "metadata": {},
     "output_type": "execute_result"
    }
   ],
   "source": [
    "# Lower casing\n",
    "data['review'] = data['review'].str.lower()\n",
    "data.head(3)"
   ]
  },
  {
   "cell_type": "code",
   "execution_count": 73,
   "id": "6c1e638c",
   "metadata": {},
   "outputs": [
    {
     "data": {
      "text/plain": [
       "0    one of the other reviewers has mentioned that ...\n",
       "1    a wonderful little production. the filming tec...\n",
       "2    i thought this was a wonderful way to spend ti...\n",
       "3    basically there's a family where a little boy ...\n",
       "4    petter mattei's \"love in the time of money\" is...\n",
       "Name: review, dtype: object"
      ]
     },
     "execution_count": 73,
     "metadata": {},
     "output_type": "execute_result"
    }
   ],
   "source": [
    "# Removing HTML tags\n",
    "import re\n",
    "def remove_html_tags(text):\n",
    "    pattern = re.compile('<.*?>')\n",
    "    return pattern.sub(r\"\",text)\n",
    "data['review'] = data['review'].apply(remove_html_tags)\n",
    "data.review.head()"
   ]
  },
  {
   "cell_type": "code",
   "execution_count": 74,
   "id": "f331a408",
   "metadata": {},
   "outputs": [],
   "source": [
    "# Removing URLS\n",
    "import re\n",
    "def remove_urls(text):\n",
    "    url_pattern = re.compile(r'https?://\\S+|www\\.\\S+')\n",
    "    return url_pattern.sub(r\"\", text)\n",
    "data['review'] = data['review'].apply(remove_urls)"
   ]
  },
  {
   "cell_type": "code",
   "execution_count": 75,
   "id": "a937ea9d",
   "metadata": {},
   "outputs": [],
   "source": [
    "# Removing punctuation\n",
    "import string\n",
    "exclude = string.punctuation\n",
    "def remove_punctuation(text):\n",
    "    return text.translate(str.maketrans('','',exclude))\n",
    "data['review'] =  data['review'].apply(remove_punctuation)"
   ]
  },
  {
   "cell_type": "code",
   "execution_count": 76,
   "id": "2480b9c9",
   "metadata": {},
   "outputs": [],
   "source": [
    "# spelling correction\n",
    "from textblob import TextBlob\n",
    "\n",
    "def correct_spell(text):\n",
    "    textblob = TextBlob(text)\n",
    "    return str(TextBlob(text).correct())\n"
   ]
  },
  {
   "cell_type": "code",
   "execution_count": 77,
   "id": "71f38eb2",
   "metadata": {},
   "outputs": [
    {
     "data": {
      "text/plain": [
       "0    one of the other reviews has mentioned that af...\n",
       "1    a wonderful little production the filling tech...\n",
       "2    i thought this was a wonderful way to spend ti...\n",
       "3    basically there a family where a little boy ja...\n",
       "4    letter matters love in the time of money is a ...\n",
       "5    probably my alliee favorite movie a story of h...\n",
       "6    i sure would like to see a resurrection of a u...\n",
       "7    this show was an amazing fresh  innovative ide...\n",
       "Name: review, dtype: object"
      ]
     },
     "execution_count": 77,
     "metadata": {},
     "output_type": "execute_result"
    }
   ],
   "source": [
    "data['review'] = data['review'].apply(correct_spell)\n",
    "data.review.head(8)"
   ]
  },
  {
   "cell_type": "code",
   "execution_count": 78,
   "id": "be4367c0",
   "metadata": {},
   "outputs": [
    {
     "data": {
      "text/plain": [
       "0    one    reviews  mentioned   watching  1 oz epi...\n",
       "1     wonderful little production  filling techniqu...\n",
       "2     thought    wonderful way  spend time    hot s...\n",
       "3    basically   family   little boy jake thinks   ...\n",
       "4    letter matters love   time  money   usually st...\n",
       "5    probably  alliee favorite movie  story  helple...\n",
       "6     sure would like  see  resurrection    dated s...\n",
       "7     show   amazing fresh innovative idea      fir...\n",
       "8    encouraged   positive comments   film     look...\n",
       "9      like original gut wrenching laughter   like ...\n",
       "Name: review, dtype: object"
      ]
     },
     "execution_count": 78,
     "metadata": {},
     "output_type": "execute_result"
    }
   ],
   "source": [
    "# removing stop words\n",
    "from nltk.corpus import stopwords\n",
    "def remove_stopwords(text):\n",
    "    new_text = []\n",
    "    for word in text.split():\n",
    "        if word in stopwords.words('english'):\n",
    "            new_text.append(\"\")\n",
    "        else:\n",
    "            new_text.append(word)\n",
    "    x = new_text[:]\n",
    "    new_text.clear()\n",
    "    return \" \".join(x)\n",
    "\n",
    "data['review'] = data['review'].apply(remove_stopwords)\n",
    "data['review'].head(10)"
   ]
  },
  {
   "cell_type": "code",
   "execution_count": 79,
   "id": "644aa8b4",
   "metadata": {},
   "outputs": [
    {
     "data": {
      "text/html": [
       "<div>\n",
       "<style scoped>\n",
       "    .dataframe tbody tr th:only-of-type {\n",
       "        vertical-align: middle;\n",
       "    }\n",
       "\n",
       "    .dataframe tbody tr th {\n",
       "        vertical-align: top;\n",
       "    }\n",
       "\n",
       "    .dataframe thead th {\n",
       "        text-align: right;\n",
       "    }\n",
       "</style>\n",
       "<table border=\"1\" class=\"dataframe\">\n",
       "  <thead>\n",
       "    <tr style=\"text-align: right;\">\n",
       "      <th></th>\n",
       "      <th>review</th>\n",
       "      <th>sentiment</th>\n",
       "      <th>tokens</th>\n",
       "    </tr>\n",
       "  </thead>\n",
       "  <tbody>\n",
       "    <tr>\n",
       "      <th>0</th>\n",
       "      <td>one    reviews  mentioned   watching  1 oz epi...</td>\n",
       "      <td>positive</td>\n",
       "      <td>[one, reviews, mentioned, watching, 1, oz, epi...</td>\n",
       "    </tr>\n",
       "    <tr>\n",
       "      <th>1</th>\n",
       "      <td>wonderful little production  filling techniqu...</td>\n",
       "      <td>positive</td>\n",
       "      <td>[wonderful, little, production, filling, techn...</td>\n",
       "    </tr>\n",
       "    <tr>\n",
       "      <th>2</th>\n",
       "      <td>thought    wonderful way  spend time    hot s...</td>\n",
       "      <td>positive</td>\n",
       "      <td>[thought, wonderful, way, spend, time, hot, su...</td>\n",
       "    </tr>\n",
       "    <tr>\n",
       "      <th>3</th>\n",
       "      <td>basically   family   little boy jake thinks   ...</td>\n",
       "      <td>negative</td>\n",
       "      <td>[basically, family, little, boy, jake, thinks,...</td>\n",
       "    </tr>\n",
       "    <tr>\n",
       "      <th>4</th>\n",
       "      <td>letter matters love   time  money   usually st...</td>\n",
       "      <td>positive</td>\n",
       "      <td>[letter, matters, love, time, money, usually, ...</td>\n",
       "    </tr>\n",
       "  </tbody>\n",
       "</table>\n",
       "</div>"
      ],
      "text/plain": [
       "                                              review sentiment  \\\n",
       "0  one    reviews  mentioned   watching  1 oz epi...  positive   \n",
       "1   wonderful little production  filling techniqu...  positive   \n",
       "2   thought    wonderful way  spend time    hot s...  positive   \n",
       "3  basically   family   little boy jake thinks   ...  negative   \n",
       "4  letter matters love   time  money   usually st...  positive   \n",
       "\n",
       "                                              tokens  \n",
       "0  [one, reviews, mentioned, watching, 1, oz, epi...  \n",
       "1  [wonderful, little, production, filling, techn...  \n",
       "2  [thought, wonderful, way, spend, time, hot, su...  \n",
       "3  [basically, family, little, boy, jake, thinks,...  \n",
       "4  [letter, matters, love, time, money, usually, ...  "
      ]
     },
     "execution_count": 79,
     "metadata": {},
     "output_type": "execute_result"
    }
   ],
   "source": [
    "# Tokenization\n",
    "from nltk.tokenize import word_tokenize\n",
    "data['tokens'] = data['review'].apply(word_tokenize)\n",
    "data.head()"
   ]
  },
  {
   "cell_type": "code",
   "execution_count": 80,
   "id": "857e3291",
   "metadata": {},
   "outputs": [
    {
     "data": {
      "text/html": [
       "<div>\n",
       "<style scoped>\n",
       "    .dataframe tbody tr th:only-of-type {\n",
       "        vertical-align: middle;\n",
       "    }\n",
       "\n",
       "    .dataframe tbody tr th {\n",
       "        vertical-align: top;\n",
       "    }\n",
       "\n",
       "    .dataframe thead th {\n",
       "        text-align: right;\n",
       "    }\n",
       "</style>\n",
       "<table border=\"1\" class=\"dataframe\">\n",
       "  <thead>\n",
       "    <tr style=\"text-align: right;\">\n",
       "      <th></th>\n",
       "      <th>review</th>\n",
       "      <th>sentiment</th>\n",
       "      <th>tokens</th>\n",
       "    </tr>\n",
       "  </thead>\n",
       "  <tbody>\n",
       "    <tr>\n",
       "      <th>0</th>\n",
       "      <td>one    reviews  mentioned   watching  1 oz epi...</td>\n",
       "      <td>positive</td>\n",
       "      <td>[one, review, mention, watch, 1, oz, episod, h...</td>\n",
       "    </tr>\n",
       "    <tr>\n",
       "      <th>1</th>\n",
       "      <td>wonderful little production  filling techniqu...</td>\n",
       "      <td>positive</td>\n",
       "      <td>[wonder, littl, product, fill, techniqu, assum...</td>\n",
       "    </tr>\n",
       "    <tr>\n",
       "      <th>2</th>\n",
       "      <td>thought    wonderful way  spend time    hot s...</td>\n",
       "      <td>positive</td>\n",
       "      <td>[thought, wonder, way, spend, time, hot, summe...</td>\n",
       "    </tr>\n",
       "    <tr>\n",
       "      <th>3</th>\n",
       "      <td>basically   family   little boy jake thinks   ...</td>\n",
       "      <td>negative</td>\n",
       "      <td>[basic, famili, littl, boy, jake, think, combi...</td>\n",
       "    </tr>\n",
       "    <tr>\n",
       "      <th>4</th>\n",
       "      <td>letter matters love   time  money   usually st...</td>\n",
       "      <td>positive</td>\n",
       "      <td>[letter, matter, love, time, money, usual, stu...</td>\n",
       "    </tr>\n",
       "  </tbody>\n",
       "</table>\n",
       "</div>"
      ],
      "text/plain": [
       "                                              review sentiment  \\\n",
       "0  one    reviews  mentioned   watching  1 oz epi...  positive   \n",
       "1   wonderful little production  filling techniqu...  positive   \n",
       "2   thought    wonderful way  spend time    hot s...  positive   \n",
       "3  basically   family   little boy jake thinks   ...  negative   \n",
       "4  letter matters love   time  money   usually st...  positive   \n",
       "\n",
       "                                              tokens  \n",
       "0  [one, review, mention, watch, 1, oz, episod, h...  \n",
       "1  [wonder, littl, product, fill, techniqu, assum...  \n",
       "2  [thought, wonder, way, spend, time, hot, summe...  \n",
       "3  [basic, famili, littl, boy, jake, think, combi...  \n",
       "4  [letter, matter, love, time, money, usual, stu...  "
      ]
     },
     "execution_count": 80,
     "metadata": {},
     "output_type": "execute_result"
    }
   ],
   "source": [
    "# Stemming\n",
    "from nltk.stem import PorterStemmer\n",
    "ps = PorterStemmer()\n",
    "\n",
    "def stemmer(tokens):\n",
    "    return [ps.stem(word) for word in tokens]\n",
    "\n",
    "data['tokens'] = data['tokens'].apply(stemmer)\n",
    "data.head()"
   ]
  },
  {
   "cell_type": "markdown",
   "id": "958b330f",
   "metadata": {},
   "source": [
    "## Feature Extraction/ Text Representation"
   ]
  },
  {
   "cell_type": "code",
   "execution_count": 81,
   "id": "d276ac46",
   "metadata": {},
   "outputs": [
    {
     "name": "stdout",
     "output_type": "stream",
     "text": [
      "1595\n"
     ]
    }
   ],
   "source": [
    "# Number of words in the corpus\n",
    "corpus = []\n",
    "for i in data['tokens']:\n",
    "    corpus.extend(i)\n",
    "    \n",
    "print(len(corpus))"
   ]
  },
  {
   "cell_type": "code",
   "execution_count": 82,
   "id": "599c02e8",
   "metadata": {},
   "outputs": [
    {
     "name": "stdout",
     "output_type": "stream",
     "text": [
      "923\n"
     ]
    }
   ],
   "source": [
    "# Vocabulary\n",
    "vocab = list(set(corpus))\n",
    "print(len(vocab))"
   ]
  },
  {
   "cell_type": "markdown",
   "id": "14b719d9",
   "metadata": {},
   "source": [
    "### Bag of Words"
   ]
  },
  {
   "cell_type": "code",
   "execution_count": 83,
   "id": "1b4d45e0",
   "metadata": {},
   "outputs": [],
   "source": [
    "from sklearn.feature_extraction.text import CountVectorizer\n",
    "cv = CountVectorizer()"
   ]
  },
  {
   "cell_type": "code",
   "execution_count": 84,
   "id": "1e20ca61",
   "metadata": {},
   "outputs": [],
   "source": [
    "bow = cv.fit_transform(data['review'])"
   ]
  },
  {
   "cell_type": "code",
   "execution_count": 96,
   "id": "f2c2a2c4",
   "metadata": {},
   "outputs": [
    {
     "name": "stdout",
     "output_type": "stream",
     "text": [
      "['one', 'reviews', 'mentioned', 'watching', 'oz', 'episode', 'hooked', 'right', 'exactly', 'happened', 'metre', 'first', 'thing', 'struck', 'brutally', 'unflinching', 'scenes', 'violence', 'set', 'word', 'go', 'trust', 'show', 'faint', 'hearted', 'timid', 'pulls', 'punched', 'regards', 'drugs', 'sex', 'hardware', 'classic', 'use', 'words', 'called', 'nickname', 'given', 'onward', 'maximum', 'security', 'state', 'penitentiary', 'focused', 'mainly', 'emerald', 'city', 'experimental', 'section', 'prison', 'cells', 'glass', 'fronts', 'face', 'inwards', 'privacy', 'high', 'agenda', 'em', 'home', 'manyaryans', 'muslin', 'gangstas', 'nations', 'christians', 'italians', 'irish', 'snuffles', 'death', 'stares', 'podgy', 'dealings', 'shady', 'agreements', 'never', 'far', 'away', 'would', 'say', 'main', 'appeal', 'due', 'fact', 'goes', 'shows', 'dare', 'forget', 'pretty', 'pictures', 'painted', 'mainstream', 'audiences', 'charm', 'romance', 'mess', 'around', 'ever', 'saw', 'nasty', 'surrey', 'ready', 'watched', 'developed', 'taste', 'got', 'accustomed', 'levels', 'graphics', 'injustice', 'crooked', 'guards', 'whole', 'sold', 'nickel', 'inmates', 'kill', 'order', 'get', 'well', 'manner', 'middle', 'class', 'turned', 'birches', 'lack', 'street', 'skill', 'experience', 'may', 'become', 'comfortable', 'uncomfortable', 'viewingthats', 'touch', 'darker', 'side', 'wonderful', 'little', 'production', 'filling', 'technique', 'assuming', 'oldtimebbc', 'fashion', 'gives', 'comforting', 'sometimes', 'discomforting', 'sense', 'realism', 'entire', 'piece', 'actors', 'extremely', 'chosen', 'michael', 'sheen', 'polar', 'voices', 'pat', 'truly', 'see', 'fearless', 'editing', 'guided', 'references', 'williams', 'diary', 'entries', 'worth', 'terrific', 'written', 'performed', 'wasteful', 'great', 'masters', 'comedy', 'life', 'really', 'comes', 'things', 'fantasy', 'guard', 'rather', 'traditional', 'dream', 'remains', 'solid', 'disappears', 'plays', 'knowledge', 'senses', 'particularly', 'concerning', 'norton', 'halliwell', 'sets', 'flat', 'halliwells', 'morals', 'decorating', 'every', 'surface', 'terribly', 'done', 'thought', 'way', 'spend', 'time', 'hot', 'summer', 'weekend', 'sitting', 'air', 'conditioned', 'theater', 'lighthearted', 'plot', 'simplistic', 'dialogue', 'witty', 'characters', 'liable', 'even', 'bread', 'suspected', 'aerial', 'killer', 'disappointed', 'realize', 'match', 'point', 'risk', 'addition', 'proof', 'wood', 'allen', 'still', 'fully', 'control', 'style', 'many', 'us', 'grown', 'lovethis', 'id', 'laughed', 'woods', 'remedies', 'years', 'decade', 'give', 'impressed', 'scarlet', 'johnson', 'managed', 'tone', 'image', 'jumped', 'average', 'spirited', 'young', 'womanthis', 'crown', 'jewel', 'career', 'whittier', 'devil', 'wears', 'trade', 'interesting', 'sherman', 'friends', 'basically', 'family', 'boy', 'jake', 'thinks', 'combine', 'closet', 'parents', 'fighting', 'timethis', 'movie', 'slower', 'soap', 'opera', 'suddenly', 'decides', 'ratio', 'zombieok', 'going', 'make', 'film', 'must', 'decide', 'thrilled', 'drama', 'watchable', 'diverting', 'arguing', 'like', 'real', 'totally', 'ruins', 'expected', 'boogeyman', 'similar', 'instead', 'meaningless', 'spots', '10', 'playing', 'descent', 'shots', 'ignore', 'letter', 'matters', 'love', 'money', 'usually', 'stunning', 'watch', 'mr', 'matter', 'offers', 'vivid', 'portrait', 'human', 'relations', 'seems', 'telling', 'power', 'success', 'people', 'different', 'situations', 'encounter', 'variation', 'arthur', 'schnitzlers', 'play', 'theme', 'director', 'transfers', 'action', 'present', 'new', 'york', 'meet', 'connect', 'connected', 'another', 'next', 'person', 'know', 'previous', 'contact', 'stylish', 'sophisticated', 'luxurious', 'look', 'taken', 'live', 'world', 'habitatthe', 'gets', 'souls', 'picture', 'stages', 'loneliness', 'inhabit', 'big', 'best', 'place', 'find', 'sincere', 'fulfillment', 'discern', 'case', 'encounterthe', 'acting', 'good', 'direction', 'steve', 'buscemi', 'rosary', 'dawson', 'carl', 'lane', 'imperial', 'adrian', 'greater', 'rest', 'talented', 'cast', 'come', 'alive', 'wish', 'luck', 'await', 'anxiously', 'work', 'probably', 'alliee', 'favorite', 'story', 'helplessness', 'sacrifice', 'education', 'noble', 'cause', 'preach', 'boring', 'old', 'despite', 'seen', '15', 'times', 'last', '25', 'paul', 'lupus', 'performance', 'brings', 'tears', 'eyes', 'better', 'davis', 'sympathetic', 'roles', 'delight', 'kiss', 'grand', 'says', 'dressed', 'midges', 'children', 'makes', 'fun', 'mothers', 'slow', 'awakening', 'happening', 'roof', 'believable', 'startling', 'dozen', 'thumbs', 'sure', 'resurrection', 'dated', 'seahunt', 'series', 'teach', 'today', 'bring', 'back', 'kid', 'excitement', 'grew', 'black', 'white', 'gunsmoke', 'hero', 'weekyou', 'vote', 'comeback', 'sea', 'hunter', 'need', 'change', 'pace', 'water', 'adventure', 'thank', 'outlet', 'view', 'viewpoint', 'moviesso', 'ole', 'believe', 'anna', 'saywould', 'nice', 'read', 'plus', 'points', 'rhymes', 'lines', 'let', 'submit', 'leave', 'doubt', 'quite', 'lets', 'amazing', 'fresh', 'innovative', 'idea', 'tired', 'brilliant', 'dropped', '1990', 'funny', 'anymore', 'continued', 'decline', 'complete', 'waste', 'todayits', 'disgraceful', 'fallen', 'writing', 'painfully', 'bad', 'performances', 'almost', 'mildly', 'entertaining', 'respite', 'guesthosts', 'hard', 'creator', 'handselected', 'original', 'also', 'chose', 'band', 'backs', 'followed', 'recognize', 'brilliance', 'fit', 'replace', 'mediocrity', 'felt', 'stars', 'respect', 'made', 'huge', 'awful', 'encouraged', 'positive', 'comments', 'looking', 'forward', 'mistake', '950', 'films', 'worst', 'pacing', 'storyline', 'soundtrack', 'song', 'lame', 'country', 'tune', 'played', 'less', 'four', 'looks', 'cheap', 'extreme', 'rarely', 'happy', 'end', 'credits', 'prevents', 'giving', 'score', 'harvey', 'kettle', 'least', 'making', 'bit', 'effort', 'obsessives', 'gut', 'wrenching', 'laughter', 'hell', 'mon', 'liked', 'camp', 'phil', 'alien', 'quickly', 'humour', 'based', 'address', 'everything', 'actual', 'punchlinesat', 'odd', 'progressed', 'jokes', 'anymoreits', 'low', 'budget', 'problem', 'eventually', 'lost', 'interest', 'imagine', 'stoner', 'currently', 'partakingfor', 'something', 'try', 'brother', 'planet', '12', 'came', 'recall', 'caries', 'scene', 'bird', 'eating', 'men', 'dangling', 'helplessly', 'parachutes', 'horror', 'horrors', 'cheese', 'saturday', 'afternoon', 'formula', 'monster', 'type', 'moves', 'included', 'beautiful', 'woman', 'might', 'daughter', 'professor', 'resolution', 'died', 'care', 'much', 'romantic', 'angle', 'year', 'predictable', 'plots', 'unintentional', 'humorous', 'later', 'psychic', 'loved', 'star', 'janet', 'sleigh', 'bumped', 'early', 'sat', 'took', 'notice', 'since', 'screenwriters', 'scar', 'possible', 'wellworn', 'rules', 'fan', 'balls', 'enjoyed', 'postal', 'maybe', 'ball', 'apparently', 'bought', 'rights', 'cry', 'long', 'ago', 'game', 'finished', 'killing', 'mercy', 'infiltration', 'secret', 'research', 'laws', 'located', 'tropical', 'island', 'warned', 'scheme', 'together', 'along', 'legion', 'schmucks', 'feeling', 'lonely', 'invites', 'three', 'countrymen', 'players', 'names', 'til', 'schneider', 'bier', 'half', 'moellerthree', 'actually', 'self', 'tale', 'jack', 'yes', 'german', 'hail', 'bratwurst', 'dukes', 'however', 'till', 'adams', 'complained', 'staying', 'true', 'perspective', 'dont', 'looked', 'kicking', 'beyond', 'demanded', 'evil', 'mad', 'scientist', 'dr', 'trigger', 'geneticallymutatedsoldiers', 'gas', 'performing', 'topsecret', 'reminds', 'spoiled', 'vancouver', 'reason', 'palm', 'trees', 'rich', 'lumberjackwoods', 'gone', 'started', 'mehehe', 'cannot', 'stay', 'shenanigans', 'delivers', 'meaning', 'suckthere', 'mentioning', 'imply', 'areas', 'boat', 'cromedalbino', 'squad', 'enters', 'laugh', 'weeks', 'scheisse', 'poor', 'simpletons', 'take', 'wife', 'ahead', 'bow', 'annoying', 'sidekick', 'shoot', 'minutes', 'screen', 'shakespeareshakespeare', 'appreciate', 'trying', 'shakespeare', 'masses', 'ruin', 'goods', 'scottish', 'certain', 'rev', 'bowler', 'hence', 'bowdlerization', 'tried', 'victoria', 'brain', 'improve', 'perfection', 'write', 'ten', 'text', 'english', 'composition', 'force', 'keep', 'saying', 'cut', 'fantastic', 'prisoners', 'famous', 'george', 'colonel', 'roll', 'man', 'constant', 'sorrow', 'recommend', 'everybody', 'greetings', 'bart', 'kind', 'drawn', 'exotic', 'amateurish', 'unbelievable', 'bits', 'sort', 'school', 'project', 'hosanna', 'marquette', 'thinking', 'stock', 'bizarre', 'supposed', 'midst', 'town', 'involved', 'lessons', 'learned', 'insight', 'tilted', 'ridiculous', 'lots', 'skin', 'intrigues', 'videotaped', 'nonsensewhat', 'sexual', 'relationship', 'nowhere', 'heterosexual', 'encounters', 'absurd', 'dance', 'stereotyped', 'pass', 'million', 'miles', 'wasted', 'could', 'spent', 'starving', 'aids', 'africa', 'simply', 'fails', 'capture', 'flavor', 'terror', '1963', 'title', 'diam', 'nelson', 'excellent', 'always', 'holds', 'exception', 'owen', 'wilson', 'feel', 'character', 'luke', 'major', 'fault', 'version', 'strayed', 'shirley', 'jackson', 'attempts', 'grandiose', 'thrill', 'earlier', 'snazzier', 'special', 'effects', 'enjoy', 'friction', 'older', 'top', 'horrible', 'want', 'continuous', 'minute', 'fight', 'chance', 'development', 'busy', 'running', 'sword', 'emotional', 'attachment', 'except', 'machine', 'wanted', 'destroy', 'blatantly', 'stolen', 'lot', 'wars', 'matrix', 'examplesthe', 'ghost', 'final', 'soda', 'obey', 'spider', 'beginning', 'attacked', 'return', 'kings', 'elijah', 'victim', 'waiting', 'hypnotics', 'sting', 'wraps', 'holland', 'vs', 'humans', 'terminatorthere', 'examples', 'someone', 'tell', 'paris', 'juvenile', 'line', 'rushed', 'conclusion', 'adult', 'either', 'disappointment', 'save', 'remember', 'limit', 'cinema', 'dark', 'places', 'nervous', '7475', 'dad', 'sister', 'newby', 'berkshire', 'england', 'tigers', 'snow', 'appearance', 'grizzly', 'actor', 'dan', 'dagger', 'think', 'shot', 'dies', 'anyone', 'knows', 'etc', 'please', 'knowthe', 'fitness', 'club', 'shame', 'nearest', '20', 'hear', 'others', 'singers', 'nominated', 'golden', 'globe', 'female', 'renaissance', 'painter', 'mangled', 'recognition', 'complaint', 'liberties', 'facts', 'perfectly', 'fine', 'accounts', 'artist', 'dishwaterdull', 'script', 'suppose', 'enough', 'naked', 'hurriedly', 'tapped', 'summary', 'artists', 'saved', 'couple', 'hours', 'favored', 'gravity']\n"
     ]
    }
   ],
   "source": [
    "print(list(cv.vocabulary_.keys()))"
   ]
  },
  {
   "cell_type": "code",
   "execution_count": 89,
   "id": "cf60513d",
   "metadata": {},
   "outputs": [
    {
     "data": {
      "text/plain": [
       "array([[0, 0, 0, ..., 0, 0, 0]], dtype=int64)"
      ]
     },
     "execution_count": 89,
     "metadata": {},
     "output_type": "execute_result"
    }
   ],
   "source": [
    "bow[0].toarray()"
   ]
  },
  {
   "cell_type": "code",
   "execution_count": 98,
   "id": "bc812def",
   "metadata": {},
   "outputs": [
    {
     "name": "stdout",
     "output_type": "stream",
     "text": [
      "Word Frequency: {'one': 25, 'reviews': 1, 'mentioned': 1, 'watching': 5, 'oz': 5, 'episode': 2, 'hooked': 1, 'right': 6, 'exactly': 3, 'happened': 1, 'metre': 1, 'first': 10, 'thing': 4, 'struck': 2, 'brutally': 1, 'unflinching': 1, 'scenes': 5, 'violence': 4, 'set': 2, 'word': 1, 'go': 7, 'trust': 1, 'show': 9, 'faint': 1, 'hearted': 1, 'timid': 1, 'pulls': 1, 'punched': 1, 'regards': 1, 'drugs': 1, 'sex': 2, 'hardware': 1, 'classic': 1, 'use': 3, 'words': 2, 'called': 2, 'nickname': 1, 'given': 1, 'onward': 1, 'maximum': 1, 'security': 1, 'state': 1, 'penitentiary': 1, 'focused': 1, 'mainly': 1, 'emerald': 1, 'city': 3, 'experimental': 1, 'section': 1, 'prison': 3, 'cells': 1, 'glass': 1, 'fronts': 1, 'face': 1, 'inwards': 1, 'privacy': 1, 'high': 3, 'agenda': 2, 'em': 1, 'home': 2, 'manyaryans': 1, 'muslin': 1, 'gangstas': 1, 'nations': 1, 'christians': 1, 'italians': 1, 'irish': 1, 'snuffles': 1, 'death': 1, 'stares': 1, 'podgy': 1, 'dealings': 1, 'shady': 1, 'agreements': 1, 'never': 5, 'far': 10, 'away': 3, 'would': 11, 'say': 6, 'main': 1, 'appeal': 2, 'due': 2, 'fact': 1, 'goes': 3, 'shows': 1, 'dare': 2, 'forget': 3, 'pretty': 6, 'pictures': 1, 'painted': 1, 'mainstream': 1, 'audiences': 1, 'charm': 1, 'romance': 1, 'mess': 1, 'around': 2, 'ever': 2, 'saw': 4, 'nasty': 2, 'surrey': 1, 'ready': 1, 'watched': 3, 'developed': 1, 'taste': 1, 'got': 4, 'accustomed': 1, 'levels': 1, 'graphics': 1, 'injustice': 1, 'crooked': 1, 'guards': 1, 'whole': 5, 'sold': 1, 'nickel': 1, 'inmates': 2, 'kill': 2, 'order': 1, 'get': 3, 'well': 6, 'manner': 1, 'middle': 1, 'class': 1, 'turned': 2, 'birches': 1, 'lack': 1, 'street': 1, 'skill': 1, 'experience': 2, 'may': 3, 'become': 3, 'comfortable': 1, 'uncomfortable': 1, 'viewingthats': 1, 'touch': 1, 'darker': 1, 'side': 1, 'wonderful': 2, 'little': 3, 'production': 2, 'filling': 1, 'technique': 2, 'assuming': 1, 'oldtimebbc': 1, 'fashion': 1, 'gives': 1, 'comforting': 1, 'sometimes': 1, 'discomforting': 1, 'sense': 1, 'realism': 2, 'entire': 1, 'piece': 2, 'actors': 2, 'extremely': 1, 'chosen': 1, 'michael': 2, 'sheen': 1, 'polar': 1, 'voices': 1, 'pat': 1, 'truly': 4, 'see': 9, 'fearless': 1, 'editing': 2, 'guided': 1, 'references': 1, 'williams': 1, 'diary': 1, 'entries': 1, 'worth': 2, 'terrific': 1, 'written': 1, 'performed': 1, 'wasteful': 1, 'great': 3, 'masters': 1, 'comedy': 3, 'life': 3, 'really': 4, 'comes': 1, 'things': 3, 'fantasy': 1, 'guard': 1, 'rather': 2, 'traditional': 1, 'dream': 1, 'remains': 1, 'solid': 1, 'disappears': 1, 'plays': 1, 'knowledge': 1, 'senses': 1, 'particularly': 2, 'concerning': 1, 'norton': 1, 'halliwell': 1, 'sets': 1, 'flat': 1, 'halliwells': 1, 'morals': 1, 'decorating': 1, 'every': 3, 'surface': 1, 'terribly': 1, 'done': 1, 'thought': 2, 'way': 5, 'spend': 1, 'time': 5, 'hot': 1, 'summer': 1, 'weekend': 1, 'sitting': 1, 'air': 4, 'conditioned': 1, 'theater': 1, 'lighthearted': 1, 'plot': 1, 'simplistic': 1, 'dialogue': 2, 'witty': 1, 'characters': 5, 'liable': 1, 'even': 5, 'bread': 1, 'suspected': 1, 'aerial': 1, 'killer': 1, 'disappointed': 2, 'realize': 2, 'match': 1, 'point': 3, 'risk': 1, 'addition': 1, 'proof': 1, 'wood': 2, 'allen': 1, 'still': 4, 'fully': 1, 'control': 1, 'style': 1, 'many': 4, 'us': 3, 'grown': 1, 'lovethis': 1, 'id': 1, 'laughed': 1, 'woods': 1, 'remedies': 1, 'years': 3, 'decade': 1, 'give': 6, 'impressed': 1, 'scarlet': 1, 'johnson': 1, 'managed': 1, 'tone': 1, 'image': 1, 'jumped': 1, 'average': 1, 'spirited': 1, 'young': 3, 'womanthis': 1, 'crown': 1, 'jewel': 1, 'career': 6, 'whittier': 1, 'devil': 1, 'wears': 1, 'trade': 2, 'interesting': 2, 'sherman': 1, 'friends': 1, 'basically': 1, 'family': 1, 'boy': 1, 'jake': 4, 'thinks': 1, 'combine': 1, 'closet': 2, 'parents': 3, 'fighting': 2, 'timethis': 1, 'movie': 23, 'slower': 1, 'soap': 1, 'opera': 1, 'suddenly': 1, 'decides': 1, 'ratio': 1, 'zombieok': 1, 'going': 3, 'make': 3, 'film': 26, 'must': 4, 'decide': 2, 'thrilled': 2, 'drama': 3, 'watchable': 1, 'diverting': 1, 'arguing': 1, 'like': 12, 'real': 3, 'totally': 1, 'ruins': 1, 'expected': 1, 'boogeyman': 1, 'similar': 3, 'instead': 2, 'meaningless': 1, 'spots': 1, '10': 3, 'playing': 2, 'descent': 1, 'shots': 1, 'ignore': 1, 'letter': 1, 'matters': 2, 'love': 4, 'money': 4, 'usually': 2, 'stunning': 1, 'watch': 2, 'mr': 5, 'matter': 2, 'offers': 1, 'vivid': 1, 'portrait': 1, 'human': 2, 'relations': 2, 'seems': 3, 'telling': 1, 'power': 1, 'success': 2, 'people': 6, 'different': 3, 'situations': 1, 'encounter': 1, 'variation': 1, 'arthur': 1, 'schnitzlers': 1, 'play': 3, 'theme': 2, 'director': 1, 'transfers': 1, 'action': 1, 'present': 1, 'new': 2, 'york': 1, 'meet': 1, 'connect': 1, 'connected': 1, 'another': 5, 'next': 2, 'person': 2, 'know': 4, 'previous': 1, 'contact': 1, 'stylish': 1, 'sophisticated': 1, 'luxurious': 1, 'look': 1, 'taken': 3, 'live': 2, 'world': 3, 'habitatthe': 1, 'gets': 4, 'souls': 1, 'picture': 2, 'stages': 1, 'loneliness': 1, 'inhabit': 1, 'big': 7, 'best': 2, 'place': 1, 'find': 5, 'sincere': 1, 'fulfillment': 1, 'discern': 1, 'case': 1, 'encounterthe': 1, 'acting': 3, 'good': 5, 'direction': 1, 'steve': 1, 'buscemi': 1, 'rosary': 1, 'dawson': 1, 'carl': 1, 'lane': 1, 'imperial': 1, 'adrian': 1, 'greater': 1, 'rest': 2, 'talented': 1, 'cast': 5, 'come': 2, 'alive': 1, 'wish': 1, 'luck': 1, 'await': 1, 'anxiously': 1, 'work': 4, 'probably': 2, 'alliee': 1, 'favorite': 2, 'story': 7, 'helplessness': 1, 'sacrifice': 1, 'education': 1, 'noble': 1, 'cause': 1, 'preach': 1, 'boring': 2, 'old': 4, 'despite': 1, 'seen': 4, '15': 1, 'times': 2, 'last': 1, '25': 1, 'paul': 1, 'lupus': 1, 'performance': 2, 'brings': 1, 'tears': 1, 'eyes': 1, 'better': 3, 'davis': 1, 'sympathetic': 1, 'roles': 2, 'delight': 1, 'kiss': 1, 'grand': 1, 'says': 1, 'dressed': 1, 'midges': 1, 'children': 3, 'makes': 3, 'fun': 1, 'mothers': 1, 'slow': 1, 'awakening': 1, 'happening': 1, 'roof': 1, 'believable': 1, 'startling': 1, 'dozen': 1, 'thumbs': 1, 'sure': 1, 'resurrection': 1, 'dated': 1, 'seahunt': 2, 'series': 1, 'teach': 1, 'today': 1, 'bring': 3, 'back': 2, 'kid': 2, 'excitement': 1, 'grew': 1, 'black': 1, 'white': 1, 'gunsmoke': 1, 'hero': 2, 'weekyou': 1, 'vote': 1, 'comeback': 1, 'sea': 2, 'hunter': 1, 'need': 1, 'change': 1, 'pace': 1, 'water': 1, 'adventure': 1, 'thank': 1, 'outlet': 1, 'view': 1, 'viewpoint': 1, 'moviesso': 1, 'ole': 1, 'believe': 3, 'anna': 4, 'saywould': 1, 'nice': 3, 'read': 1, 'plus': 1, 'points': 1, 'rhymes': 1, 'lines': 2, 'let': 2, 'submit': 1, 'leave': 1, 'doubt': 1, 'quite': 2, 'lets': 1, 'amazing': 1, 'fresh': 1, 'innovative': 1, 'idea': 1, 'tired': 2, 'brilliant': 2, 'dropped': 1, '1990': 1, 'funny': 3, 'anymore': 1, 'continued': 1, 'decline': 1, 'complete': 1, 'waste': 2, 'todayits': 1, 'disgraceful': 1, 'fallen': 1, 'writing': 1, 'painfully': 1, 'bad': 8, 'performances': 1, 'almost': 2, 'mildly': 1, 'entertaining': 1, 'respite': 1, 'guesthosts': 1, 'hard': 2, 'creator': 1, 'handselected': 1, 'original': 3, 'also': 2, 'chose': 1, 'band': 1, 'backs': 1, 'followed': 1, 'recognize': 1, 'brilliance': 1, 'fit': 1, 'replace': 1, 'mediocrity': 1, 'felt': 1, 'stars': 1, 'respect': 1, 'made': 6, 'huge': 1, 'awful': 5, 'encouraged': 1, 'positive': 1, 'comments': 1, 'looking': 1, 'forward': 1, 'mistake': 1, '950': 1, 'films': 6, 'worst': 1, 'pacing': 1, 'storyline': 2, 'soundtrack': 2, 'song': 1, 'lame': 1, 'country': 1, 'tune': 1, 'played': 4, 'less': 1, 'four': 1, 'looks': 1, 'cheap': 1, 'extreme': 1, 'rarely': 1, 'happy': 2, 'end': 4, 'credits': 1, 'prevents': 1, 'giving': 1, 'score': 1, 'harvey': 1, 'kettle': 2, 'least': 3, 'making': 3, 'bit': 1, 'effort': 1, 'obsessives': 1, 'gut': 1, 'wrenching': 1, 'laughter': 1, 'hell': 1, 'mon': 1, 'liked': 1, 'camp': 1, 'phil': 1, 'alien': 1, 'quickly': 1, 'humour': 1, 'based': 1, 'address': 2, 'everything': 2, 'actual': 2, 'punchlinesat': 1, 'odd': 1, 'progressed': 1, 'jokes': 1, 'anymoreits': 1, 'low': 1, 'budget': 1, 'problem': 1, 'eventually': 1, 'lost': 3, 'interest': 1, 'imagine': 1, 'stoner': 1, 'currently': 1, 'partakingfor': 1, 'something': 4, 'try': 1, 'brother': 2, 'planet': 1, '12': 2, 'came': 2, 'recall': 2, 'caries': 1, 'scene': 4, 'bird': 1, 'eating': 2, 'men': 1, 'dangling': 1, 'helplessly': 1, 'parachutes': 1, 'horror': 1, 'horrors': 1, 'cheese': 1, 'saturday': 1, 'afternoon': 1, 'formula': 2, 'monster': 3, 'type': 1, 'moves': 3, 'included': 1, 'beautiful': 1, 'woman': 1, 'might': 1, 'daughter': 1, 'professor': 1, 'resolution': 1, 'died': 1, 'care': 1, 'much': 3, 'romantic': 1, 'angle': 1, 'year': 2, 'predictable': 1, 'plots': 1, 'unintentional': 1, 'humorous': 1, 'later': 1, 'psychic': 1, 'loved': 1, 'star': 3, 'janet': 1, 'sleigh': 1, 'bumped': 1, 'early': 1, 'sat': 1, 'took': 2, 'notice': 1, 'since': 1, 'screenwriters': 1, 'scar': 1, 'possible': 1, 'wellworn': 1, 'rules': 1, 'fan': 2, 'balls': 2, 'enjoyed': 2, 'postal': 1, 'maybe': 1, 'ball': 5, 'apparently': 1, 'bought': 1, 'rights': 1, 'cry': 4, 'long': 1, 'ago': 1, 'game': 1, 'finished': 1, 'killing': 1, 'mercy': 1, 'infiltration': 1, 'secret': 1, 'research': 2, 'laws': 1, 'located': 1, 'tropical': 1, 'island': 2, 'warned': 1, 'scheme': 1, 'together': 1, 'along': 1, 'legion': 1, 'schmucks': 1, 'feeling': 1, 'lonely': 1, 'invites': 1, 'three': 3, 'countrymen': 1, 'players': 1, 'names': 2, 'til': 2, 'schneider': 2, 'bier': 2, 'half': 1, 'moellerthree': 1, 'actually': 1, 'self': 1, 'tale': 1, 'jack': 1, 'yes': 1, 'german': 1, 'hail': 1, 'bratwurst': 1, 'dukes': 1, 'however': 2, 'till': 1, 'adams': 2, 'complained': 1, 'staying': 1, 'true': 4, 'perspective': 1, 'dont': 1, 'looked': 1, 'kicking': 1, 'beyond': 2, 'demanded': 1, 'evil': 1, 'mad': 1, 'scientist': 1, 'dr': 1, 'trigger': 1, 'geneticallymutatedsoldiers': 1, 'gas': 2, 'performing': 1, 'topsecret': 1, 'reminds': 1, 'spoiled': 1, 'vancouver': 1, 'reason': 1, 'palm': 1, 'trees': 1, 'rich': 1, 'lumberjackwoods': 1, 'gone': 1, 'started': 1, 'mehehe': 1, 'cannot': 2, 'stay': 1, 'shenanigans': 1, 'delivers': 1, 'meaning': 1, 'suckthere': 1, 'mentioning': 1, 'imply': 1, 'areas': 1, 'boat': 1, 'cromedalbino': 1, 'squad': 1, 'enters': 1, 'laugh': 1, 'weeks': 1, 'scheisse': 1, 'poor': 1, 'simpletons': 1, 'take': 1, 'wife': 1, 'ahead': 1, 'bow': 1, 'annoying': 1, 'sidekick': 1, 'shoot': 1, 'minutes': 1, 'screen': 1, 'shakespeareshakespeare': 1, 'appreciate': 1, 'trying': 1, 'shakespeare': 2, 'masses': 1, 'ruin': 1, 'goods': 1, 'scottish': 1, 'certain': 1, 'rev': 1, 'bowler': 1, 'hence': 1, 'bowdlerization': 1, 'tried': 1, 'victoria': 1, 'brain': 1, 'improve': 1, 'perfection': 1, 'write': 2, 'ten': 1, 'text': 1, 'english': 1, 'composition': 1, 'force': 1, 'keep': 1, 'saying': 1, 'cut': 1, 'fantastic': 1, 'prisoners': 1, 'famous': 2, 'george': 1, 'colonel': 1, 'roll': 1, 'man': 1, 'constant': 1, 'sorrow': 1, 'recommend': 1, 'everybody': 2, 'greetings': 1, 'bart': 1, 'kind': 1, 'drawn': 1, 'exotic': 1, 'amateurish': 1, 'unbelievable': 1, 'bits': 1, 'sort': 1, 'school': 1, 'project': 1, 'hosanna': 1, 'marquette': 1, 'thinking': 1, 'stock': 1, 'bizarre': 2, 'supposed': 1, 'midst': 1, 'town': 1, 'involved': 1, 'lessons': 1, 'learned': 1, 'insight': 1, 'tilted': 1, 'ridiculous': 1, 'lots': 2, 'skin': 1, 'intrigues': 1, 'videotaped': 1, 'nonsensewhat': 1, 'sexual': 1, 'relationship': 1, 'nowhere': 1, 'heterosexual': 1, 'encounters': 1, 'absurd': 1, 'dance': 1, 'stereotyped': 1, 'pass': 1, 'million': 1, 'miles': 2, 'wasted': 1, 'could': 3, 'spent': 1, 'starving': 1, 'aids': 1, 'africa': 1, 'simply': 2, 'fails': 1, 'capture': 1, 'flavor': 1, 'terror': 2, '1963': 1, 'title': 1, 'diam': 1, 'nelson': 1, 'excellent': 1, 'always': 1, 'holds': 1, 'exception': 1, 'owen': 1, 'wilson': 1, 'feel': 1, 'character': 2, 'luke': 1, 'major': 1, 'fault': 1, 'version': 3, 'strayed': 1, 'shirley': 1, 'jackson': 1, 'attempts': 1, 'grandiose': 1, 'thrill': 1, 'earlier': 1, 'snazzier': 1, 'special': 1, 'effects': 1, 'enjoy': 1, 'friction': 1, 'older': 1, 'top': 1, 'horrible': 1, 'want': 3, 'continuous': 1, 'minute': 1, 'fight': 2, 'chance': 1, 'development': 1, 'busy': 1, 'running': 1, 'sword': 1, 'emotional': 1, 'attachment': 1, 'except': 1, 'machine': 3, 'wanted': 1, 'destroy': 1, 'blatantly': 1, 'stolen': 2, 'lot': 1, 'wars': 2, 'matrix': 2, 'examplesthe': 1, 'ghost': 1, 'final': 1, 'soda': 1, 'obey': 1, 'spider': 2, 'beginning': 1, 'attacked': 1, 'return': 1, 'kings': 1, 'elijah': 1, 'victim': 2, 'waiting': 1, 'hypnotics': 1, 'sting': 1, 'wraps': 1, 'holland': 1, 'vs': 1, 'humans': 1, 'terminatorthere': 1, 'examples': 1, 'someone': 1, 'tell': 1, 'paris': 2, 'juvenile': 2, 'line': 1, 'rushed': 1, 'conclusion': 1, 'adult': 1, 'either': 1, 'disappointment': 1, 'save': 1, 'remember': 1, 'limit': 1, 'cinema': 4, 'dark': 1, 'places': 1, 'nervous': 1, '7475': 1, 'dad': 1, 'sister': 1, 'newby': 2, 'berkshire': 1, 'england': 1, 'tigers': 2, 'snow': 1, 'appearance': 1, 'grizzly': 1, 'actor': 1, 'dan': 1, 'dagger': 1, 'think': 1, 'shot': 1, 'dies': 1, 'anyone': 1, 'knows': 1, 'etc': 1, 'please': 1, 'knowthe': 1, 'fitness': 1, 'club': 1, 'shame': 1, 'nearest': 1, '20': 1, 'hear': 1, 'others': 1, 'singers': 1, 'nominated': 1, 'golden': 1, 'globe': 1, 'female': 1, 'renaissance': 1, 'painter': 1, 'mangled': 1, 'recognition': 1, 'complaint': 1, 'liberties': 1, 'facts': 1, 'perfectly': 1, 'fine': 1, 'accounts': 1, 'artist': 1, 'dishwaterdull': 1, 'script': 1, 'suppose': 1, 'enough': 1, 'naked': 1, 'hurriedly': 1, 'tapped': 1, 'summary': 1, 'artists': 1, 'saved': 1, 'couple': 1, 'hours': 1, 'favored': 1, 'gravity': 1}\n"
     ]
    }
   ],
   "source": [
    "# Sum the columns of the BoW matrix to get word counts\n",
    "word_counts = bow.toarray().sum(axis=0)\n",
    "\n",
    "# Map the words to their total counts\n",
    "word_frequency = {word: word_counts[index] for word, index in cv.vocabulary_.items()}\n",
    "\n",
    "# Print the word frequency\n",
    "print(\"Word Frequency:\", word_frequency)"
   ]
  },
  {
   "cell_type": "code",
   "execution_count": null,
   "id": "a133705c",
   "metadata": {},
   "outputs": [],
   "source": []
  },
  {
   "cell_type": "code",
   "execution_count": null,
   "id": "b20a1d71",
   "metadata": {},
   "outputs": [],
   "source": []
  }
 ],
 "metadata": {
  "kernelspec": {
   "display_name": "Python 3 (ipykernel)",
   "language": "python",
   "name": "python3"
  },
  "language_info": {
   "codemirror_mode": {
    "name": "ipython",
    "version": 3
   },
   "file_extension": ".py",
   "mimetype": "text/x-python",
   "name": "python",
   "nbconvert_exporter": "python",
   "pygments_lexer": "ipython3",
   "version": "3.11.7"
  }
 },
 "nbformat": 4,
 "nbformat_minor": 5
}
