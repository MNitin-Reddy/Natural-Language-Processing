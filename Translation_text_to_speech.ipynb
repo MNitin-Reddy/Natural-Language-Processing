{
  "nbformat": 4,
  "nbformat_minor": 0,
  "metadata": {
    "colab": {
      "provenance": []
    },
    "kernelspec": {
      "name": "python3",
      "display_name": "Python 3"
    },
    "language_info": {
      "name": "python"
    }
  },
  "cells": [
    {
      "cell_type": "code",
      "execution_count": 1,
      "metadata": {
        "colab": {
          "base_uri": "https://localhost:8080/"
        },
        "id": "rphulvzzEEBm",
        "outputId": "8b742c93-bb09-4a4c-91ae-4b91687815e7"
      },
      "outputs": [
        {
          "output_type": "stream",
          "name": "stdout",
          "text": [
            "Collecting deep-translator\n",
            "  Downloading deep_translator-1.11.4-py3-none-any.whl.metadata (30 kB)\n",
            "Requirement already satisfied: beautifulsoup4<5.0.0,>=4.9.1 in /usr/local/lib/python3.10/dist-packages (from deep-translator) (4.12.3)\n",
            "Requirement already satisfied: requests<3.0.0,>=2.23.0 in /usr/local/lib/python3.10/dist-packages (from deep-translator) (2.32.3)\n",
            "Requirement already satisfied: soupsieve>1.2 in /usr/local/lib/python3.10/dist-packages (from beautifulsoup4<5.0.0,>=4.9.1->deep-translator) (2.6)\n",
            "Requirement already satisfied: charset-normalizer<4,>=2 in /usr/local/lib/python3.10/dist-packages (from requests<3.0.0,>=2.23.0->deep-translator) (3.4.1)\n",
            "Requirement already satisfied: idna<4,>=2.5 in /usr/local/lib/python3.10/dist-packages (from requests<3.0.0,>=2.23.0->deep-translator) (3.10)\n",
            "Requirement already satisfied: urllib3<3,>=1.21.1 in /usr/local/lib/python3.10/dist-packages (from requests<3.0.0,>=2.23.0->deep-translator) (2.3.0)\n",
            "Requirement already satisfied: certifi>=2017.4.17 in /usr/local/lib/python3.10/dist-packages (from requests<3.0.0,>=2.23.0->deep-translator) (2024.12.14)\n",
            "Downloading deep_translator-1.11.4-py3-none-any.whl (42 kB)\n",
            "\u001b[?25l   \u001b[90m━━━━━━━━━━━━━━━━━━━━━━━━━━━━━━━━━━━━━━━━\u001b[0m \u001b[32m0.0/42.3 kB\u001b[0m \u001b[31m?\u001b[0m eta \u001b[36m-:--:--\u001b[0m\r\u001b[2K   \u001b[90m━━━━━━━━━━━━━━━━━━━━━━━━━━━━━━━━━━━━━━━━\u001b[0m \u001b[32m42.3/42.3 kB\u001b[0m \u001b[31m3.0 MB/s\u001b[0m eta \u001b[36m0:00:00\u001b[0m\n",
            "\u001b[?25hInstalling collected packages: deep-translator\n",
            "Successfully installed deep-translator-1.11.4\n"
          ]
        }
      ],
      "source": [
        "!pip install deep-translator"
      ]
    },
    {
      "cell_type": "code",
      "source": [
        "from deep_translator import GoogleTranslator"
      ],
      "metadata": {
        "id": "FZGLN5WmEP9t"
      },
      "execution_count": 2,
      "outputs": []
    },
    {
      "cell_type": "code",
      "source": [
        "text=\"En cliquant sur « Continuer vers le paiement », vous confirmez que vous acceptez les Conditions générales de vente et d’utilisation de nos services ainsi que notre Politique de confidentialité. Les informations figurant dans ce formulaire sont destinées à la Société Editrice du Monde, responsable de traitement. Elles sont enregistrées et utilisées pour les finalités suivantes : activation et gestion de votre compte, gestion de votre commande, de la relation client et des réclamations, et dans les cas où vous l’avez accepté, communication marketing par voie électronique du Monde et/ou de ses partenaires\"\n"
      ],
      "metadata": {
        "id": "LYJfNPhTESfr"
      },
      "execution_count": 3,
      "outputs": []
    },
    {
      "cell_type": "code",
      "source": [
        "translated=GoogleTranslator(source='fr',target='en').translate(text)"
      ],
      "metadata": {
        "id": "ONan3AUHESiz"
      },
      "execution_count": 4,
      "outputs": []
    },
    {
      "cell_type": "code",
      "source": [
        "translated"
      ],
      "metadata": {
        "colab": {
          "base_uri": "https://localhost:8080/",
          "height": 90
        },
        "id": "hpC_cqppESk6",
        "outputId": "2f1fd096-1b6a-489a-ae9a-c5e44a930e56"
      },
      "execution_count": 5,
      "outputs": [
        {
          "output_type": "execute_result",
          "data": {
            "text/plain": [
              "'By clicking on \"Continue to payment\", you confirm that you accept the General Conditions of Sale and Use of our services as well as our Privacy Policy. The information contained in this form is intended for the Société Editrice du Monde, the data controller. It is recorded and used for the following purposes: activation and management of your account, management of your order, customer relations and complaints, and in cases where you have accepted, electronic marketing communication from Le Monde and/or its partners.'"
            ],
            "application/vnd.google.colaboratory.intrinsic+json": {
              "type": "string"
            }
          },
          "metadata": {},
          "execution_count": 5
        }
      ]
    },
    {
      "cell_type": "code",
      "source": [
        "print('original text : ',text)\n",
        "print(\"\\n\")\n",
        "print('Translatedl text : ',translated)"
      ],
      "metadata": {
        "colab": {
          "base_uri": "https://localhost:8080/"
        },
        "id": "RqR6HQG3ESoZ",
        "outputId": "e585ec9d-be5a-47e9-d996-43a539fb751d"
      },
      "execution_count": 6,
      "outputs": [
        {
          "output_type": "stream",
          "name": "stdout",
          "text": [
            "original text :  En cliquant sur « Continuer vers le paiement », vous confirmez que vous acceptez les Conditions générales de vente et d’utilisation de nos services ainsi que notre Politique de confidentialité. Les informations figurant dans ce formulaire sont destinées à la Société Editrice du Monde, responsable de traitement. Elles sont enregistrées et utilisées pour les finalités suivantes : activation et gestion de votre compte, gestion de votre commande, de la relation client et des réclamations, et dans les cas où vous l’avez accepté, communication marketing par voie électronique du Monde et/ou de ses partenaires\n",
            "\n",
            "\n",
            "Translatedl text :  By clicking on \"Continue to payment\", you confirm that you accept the General Conditions of Sale and Use of our services as well as our Privacy Policy. The information contained in this form is intended for the Société Editrice du Monde, the data controller. It is recorded and used for the following purposes: activation and management of your account, management of your order, customer relations and complaints, and in cases where you have accepted, electronic marketing communication from Le Monde and/or its partners.\n"
          ]
        }
      ]
    },
    {
      "cell_type": "code",
      "source": [
        "translated=GoogleTranslator(source='en',target='hi').translate(text)"
      ],
      "metadata": {
        "id": "vnnO8WK3ESsh"
      },
      "execution_count": 7,
      "outputs": []
    },
    {
      "cell_type": "code",
      "source": [
        "translated"
      ],
      "metadata": {
        "colab": {
          "base_uri": "https://localhost:8080/",
          "height": 90
        },
        "id": "M1i1kT9eFS3S",
        "outputId": "e2e191b4-6112-4d67-eaac-fd8e3125706e"
      },
      "execution_count": 8,
      "outputs": [
        {
          "output_type": "execute_result",
          "data": {
            "text/plain": [
              "'\"भुगतान जारी रखने के बाद\" पर क्लिक करते हुए, आप पुष्टि करते हैं कि आप शर्तों को स्वीकार करते हैं और अपनी सेवाओं का सामान्य उपयोग करते हैं और साथ ही गोपनीयता की राजनीति भी करते हैं। सोसाइटी एडिट्रिस डू मोंडे की नियति के लिए तैयार की गई जानकारी, जिम्मेदारी का उत्तरदायित्व। सभी पंजीकृत पंजीकरण और उपयोगिताएँ अंतिम लाभ के लिए हैं: सक्रियण और मतदाता आदेश, मतदाता आदेश, संबंध ग्राहक और पुनर्ग्रहण, और जब आप स्वीकार करते हैं, संचार विपणन आपकी इलेक्ट्रॉनिक सामग्री के आधार पर होता है/ आप सभी भागीदार हैं'"
            ],
            "application/vnd.google.colaboratory.intrinsic+json": {
              "type": "string"
            }
          },
          "metadata": {},
          "execution_count": 8
        }
      ]
    },
    {
      "cell_type": "code",
      "source": [
        "translated=GoogleTranslator(source='fr',target='hi').translate(text)"
      ],
      "metadata": {
        "id": "6dRzTySyFUmR"
      },
      "execution_count": 9,
      "outputs": []
    },
    {
      "cell_type": "code",
      "source": [
        "translated"
      ],
      "metadata": {
        "colab": {
          "base_uri": "https://localhost:8080/",
          "height": 72
        },
        "id": "6ga5XDYgFjyb",
        "outputId": "d913231e-94e2-4546-c2f5-1fe9b6f20022"
      },
      "execution_count": 10,
      "outputs": [
        {
          "output_type": "execute_result",
          "data": {
            "text/plain": [
              "'\"भुगतान जारी रखें\" पर क्लिक करके, आप पुष्टि करते हैं कि आप हमारी सेवाओं की बिक्री और उपयोग की सामान्य शर्तों के साथ-साथ हमारी गोपनीयता नीति को स्वीकार करते हैं। इस प्रपत्र में निहित जानकारी सोसाइटी एडिट्रिस डू मोंडे, डेटा नियंत्रक के लिए है। उन्हें निम्नलिखित उद्देश्यों के लिए रिकॉर्ड और उपयोग किया जाता है: आपके खाते का सक्रियण और प्रबंधन, आपके ऑर्डर का प्रबंधन, ग्राहक संबंध और शिकायतें, और उन मामलों में जहां आपने ले मोंडे और/या उसके भागीदारों से इलेक्ट्रॉनिक विपणन संचार स्वीकार किया है'"
            ],
            "application/vnd.google.colaboratory.intrinsic+json": {
              "type": "string"
            }
          },
          "metadata": {},
          "execution_count": 10
        }
      ]
    },
    {
      "cell_type": "code",
      "source": [
        "translated=GoogleTranslator(source='fr',target='ko').translate(text)"
      ],
      "metadata": {
        "id": "_dkpsxVgFltJ"
      },
      "execution_count": 11,
      "outputs": []
    },
    {
      "cell_type": "code",
      "source": [
        "translated"
      ],
      "metadata": {
        "colab": {
          "base_uri": "https://localhost:8080/",
          "height": 72
        },
        "id": "p762FQD4F9wi",
        "outputId": "dedabdc4-9cd6-417c-c989-69e74e578430"
      },
      "execution_count": 12,
      "outputs": [
        {
          "output_type": "execute_result",
          "data": {
            "text/plain": [
              "'\"결제 계속하기\"를 클릭하면 당사 서비스의 일반 판매 및 사용 조건과 개인정보 보호정책에 동의하는 것으로 간주됩니다. 이 양식에 포함된 정보는 데이터 관리자인 Société Editrice du Monde를 대상으로 합니다. 이러한 정보는 귀하의 계정 활성화 및 관리, 주문 관리, 고객 관계 및 불만 사항, 귀하가 Le Monde 및/또는 그 파트너로부터 전자 마케팅 커뮤니케이션을 수락한 경우와 같은 목적으로 기록 및 사용됩니다.'"
            ],
            "application/vnd.google.colaboratory.intrinsic+json": {
              "type": "string"
            }
          },
          "metadata": {},
          "execution_count": 12
        }
      ]
    },
    {
      "cell_type": "code",
      "source": [
        "translated=GoogleTranslator(source='fr',target='ru').translate(text)"
      ],
      "metadata": {
        "id": "-wyaxTVmF-np"
      },
      "execution_count": 13,
      "outputs": []
    },
    {
      "cell_type": "code",
      "source": [
        "translated"
      ],
      "metadata": {
        "colab": {
          "base_uri": "https://localhost:8080/",
          "height": 90
        },
        "id": "5vnL71RPGDbh",
        "outputId": "bd3f1391-edaf-4c77-b45c-4bea3143dbf4"
      },
      "execution_count": 14,
      "outputs": [
        {
          "output_type": "execute_result",
          "data": {
            "text/plain": [
              "'Нажимая «Перейти к оплате», вы подтверждаете, что принимаете Общие условия продажи и использования наших услуг, а также нашу Политику конфиденциальности. Информация, содержащаяся в этой форме, предназначена для Société Editrice du Monde, контролера данных. Они регистрируются и используются для следующих целей: активация и управление вашей учетной записью, управление вашим заказом, отношения с клиентами и жалобы, а также в случаях, когда вы приняли электронные маркетинговые сообщения от Le Monde и/или ее партнеров.'"
            ],
            "application/vnd.google.colaboratory.intrinsic+json": {
              "type": "string"
            }
          },
          "metadata": {},
          "execution_count": 14
        }
      ]
    },
    {
      "cell_type": "code",
      "source": [
        "translated=GoogleTranslator(source='fr',target='de').translate(text)"
      ],
      "metadata": {
        "id": "XSKuOn-jGFFp"
      },
      "execution_count": 15,
      "outputs": []
    },
    {
      "cell_type": "code",
      "source": [
        "translated"
      ],
      "metadata": {
        "colab": {
          "base_uri": "https://localhost:8080/",
          "height": 109
        },
        "id": "FYvgcDt_GfGR",
        "outputId": "1ab97672-6447-40ec-e400-1f1e7737ec48"
      },
      "execution_count": 16,
      "outputs": [
        {
          "output_type": "execute_result",
          "data": {
            "text/plain": [
              "'Indem Sie auf „Weiter zur Zahlung“ klicken, bestätigen Sie, dass Sie die Allgemeinen Verkaufs- und Nutzungsbedingungen unserer Dienste sowie unsere Datenschutzrichtlinie akzeptieren. Die in diesem Formular enthaltenen Informationen sind für die Société Editrice du Monde, den Datenverantwortlichen, bestimmt. Sie werden für die folgenden Zwecke gespeichert und verwendet: Aktivierung und Verwaltung Ihres Kontos, Verwaltung Ihrer Bestellung, Kundenbeziehungen und Beschwerden sowie, sofern Sie diese akzeptiert haben, elektronische Marketingkommunikation von Le Monde und/oder seinen Partnern.'"
            ],
            "application/vnd.google.colaboratory.intrinsic+json": {
              "type": "string"
            }
          },
          "metadata": {},
          "execution_count": 16
        }
      ]
    },
    {
      "cell_type": "code",
      "source": [
        "translated=GoogleTranslator(source='fr',target='ml').translate(text)"
      ],
      "metadata": {
        "id": "L9qBmNUYGf05"
      },
      "execution_count": 17,
      "outputs": []
    },
    {
      "cell_type": "code",
      "source": [
        "translated"
      ],
      "metadata": {
        "colab": {
          "base_uri": "https://localhost:8080/",
          "height": 127
        },
        "id": "jcFZNbz8GmHi",
        "outputId": "cfc920ed-beb2-4942-b95a-2f093102e997"
      },
      "execution_count": 18,
      "outputs": [
        {
          "output_type": "execute_result",
          "data": {
            "text/plain": [
              "'\"പേയ്\\u200cമെൻ്റിലേക്ക് തുടരുക\" എന്നതിൽ ക്ലിക്ക് ചെയ്യുന്നതിലൂടെ, ഞങ്ങളുടെ സേവനങ്ങളുടെ വിൽപ്പനയുടെയും ഉപയോഗത്തിൻ്റെയും പൊതുവായ വ്യവസ്ഥകളും ഞങ്ങളുടെ സ്വകാര്യതാ നയവും നിങ്ങൾ അംഗീകരിക്കുന്നുവെന്ന് നിങ്ങൾ സ്ഥിരീകരിക്കുന്നു. ഈ ഫോമിൽ അടങ്ങിയിരിക്കുന്ന വിവരങ്ങൾ ഡാറ്റാ കൺട്രോളറായ Société Editrice du Monde-യെ ഉദ്ദേശിച്ചുള്ളതാണ്. ഇനിപ്പറയുന്ന ആവശ്യങ്ങൾക്കായി അവ റെക്കോർഡ് ചെയ്യുകയും ഉപയോഗിക്കുകയും ചെയ്യുന്നു: നിങ്ങളുടെ അക്കൗണ്ട് സജീവമാക്കലും മാനേജ്മെൻ്റും, നിങ്ങളുടെ ഓർഡറിൻ്റെ മാനേജ്മെൻ്റ്, ഉപഭോക്തൃ ബന്ധങ്ങളും പരാതികളും, നിങ്ങൾ അത് സ്വീകരിച്ച സന്ദർഭങ്ങളിൽ, Le Monde കൂടാതെ/അല്ലെങ്കിൽ അതിൻ്റെ പങ്കാളികളിൽ നിന്നുള്ള ഇലക്ട്രോണിക് മാർക്കറ്റിംഗ് ആശയവിനിമയം'"
            ],
            "application/vnd.google.colaboratory.intrinsic+json": {
              "type": "string"
            }
          },
          "metadata": {},
          "execution_count": 18
        }
      ]
    },
    {
      "cell_type": "code",
      "source": [
        "translated=GoogleTranslator(source='fr',target='mr').translate(text)"
      ],
      "metadata": {
        "id": "NaCcL1o8Gm7J"
      },
      "execution_count": 19,
      "outputs": []
    },
    {
      "cell_type": "code",
      "source": [
        "translated"
      ],
      "metadata": {
        "colab": {
          "base_uri": "https://localhost:8080/",
          "height": 72
        },
        "id": "vbb81qEzGtch",
        "outputId": "5ddd74b2-f2bb-4735-b1f8-5d418a070ffc"
      },
      "execution_count": 20,
      "outputs": [
        {
          "output_type": "execute_result",
          "data": {
            "text/plain": [
              "'\"पेमेंट सुरू ठेवा\" वर क्लिक करून, तुम्ही पुष्टी करता की तुम्ही आमच्या सेवांच्या विक्री आणि वापराच्या सामान्य अटी तसेच आमचे गोपनीयता धोरण स्वीकारता. या फॉर्ममध्ये असलेली माहिती डेटा नियंत्रक सोसायटी एडिट्रिस डु मोंडेसाठी आहे. ते रेकॉर्ड केले जातात आणि खालील उद्देशांसाठी वापरले जातात: तुमच्या खात्याचे सक्रियकरण आणि व्यवस्थापन, तुमच्या ऑर्डरचे व्यवस्थापन, ग्राहक संबंध आणि तक्रारी आणि जेव्हा तुम्ही स्वीकारले असेल तेव्हा, ले मॉन्डे आणि/किंवा त्यांच्या भागीदारांकडून इलेक्ट्रॉनिक मार्केटिंग संप्रेषण.'"
            ],
            "application/vnd.google.colaboratory.intrinsic+json": {
              "type": "string"
            }
          },
          "metadata": {},
          "execution_count": 20
        }
      ]
    },
    {
      "cell_type": "code",
      "source": [
        "translated=GoogleTranslator(source='fr',target='sa').translate(text)"
      ],
      "metadata": {
        "id": "KDjNJFn3GuOG"
      },
      "execution_count": 21,
      "outputs": []
    },
    {
      "cell_type": "code",
      "source": [
        "translated"
      ],
      "metadata": {
        "colab": {
          "base_uri": "https://localhost:8080/",
          "height": 72
        },
        "id": "kBvCEw4hG_Z6",
        "outputId": "5a774384-a3ed-46f0-bfa2-1e2d712c1f93"
      },
      "execution_count": 22,
      "outputs": [
        {
          "output_type": "execute_result",
          "data": {
            "text/plain": [
              "'“भुगतानं निरन्तरं कुर्वन्तु” इत्यत्र क्लिक् कृत्वा भवान् पुष्टिं करोति यत् भवान् अस्माकं सेवानां विक्रयस्य उपयोगस्य च सामान्यशर्ताः अपि च अस्माकं गोपनीयतानीतिं स्वीकुर्वति । अस्मिन् प्रपत्रे विद्यमानाः सूचनाः Société Editrice du Monde इति आँकडानियन्त्रकस्य कृते उद्दिष्टाः सन्ति । ते निम्नलिखितप्रयोजनार्थं अभिलेखिताः उपयुज्यन्ते च: भवतः खातेः सक्रियीकरणं प्रबन्धनं च, भवतः आदेशस्य प्रबन्धनं, ग्राहकसम्बन्धाः शिकायतां च, तथा च येषु प्रकरणेषु भवान् स्वीकृतवान्, तत्र Le Monde तथा/वा तस्य भागिनानां इलेक्ट्रॉनिकविपणनसञ्चारः'"
            ],
            "application/vnd.google.colaboratory.intrinsic+json": {
              "type": "string"
            }
          },
          "metadata": {},
          "execution_count": 22
        }
      ]
    },
    {
      "cell_type": "code",
      "source": [
        "#https://en.wikipedia.org/wiki/List_of_ISO_639_language_codes"
      ],
      "metadata": {
        "id": "QvuJ5OttHA0D"
      },
      "execution_count": null,
      "outputs": []
    },
    {
      "cell_type": "code",
      "source": [
        "translated=GoogleTranslator(source='fr',target='ta').translate(text)"
      ],
      "metadata": {
        "id": "UpqYmvnbHHbY"
      },
      "execution_count": 23,
      "outputs": []
    },
    {
      "cell_type": "code",
      "source": [
        "translated"
      ],
      "metadata": {
        "colab": {
          "base_uri": "https://localhost:8080/",
          "height": 127
        },
        "id": "NHhiNUcRHHd0",
        "outputId": "fb5b4756-30c5-4320-9f85-edeb99678243"
      },
      "execution_count": 24,
      "outputs": [
        {
          "output_type": "execute_result",
          "data": {
            "text/plain": [
              "'\"கட்டணத்தைத் தொடரவும்\" என்பதைக் கிளிக் செய்வதன் மூலம், எங்கள் சேவைகளின் விற்பனை மற்றும் பயன்பாட்டின் பொதுவான நிபந்தனைகளையும் எங்கள் தனியுரிமைக் கொள்கையையும் ஏற்றுக்கொள்கிறீர்கள் என்பதை உறுதிப்படுத்துகிறீர்கள். இந்தப் படிவத்தில் உள்ள தகவல்கள் தரவுக் கட்டுப்பாட்டாளரான சொசைட்டி எடிட்ரிஸ் டு மோண்டேவுக்காக வடிவமைக்கப்பட்டுள்ளன. அவை பின்வரும் நோக்கங்களுக்காகப் பதிவு செய்யப்பட்டுப் பயன்படுத்தப்படுகின்றன: உங்கள் கணக்கைச் செயல்படுத்துதல் மற்றும் நிர்வகித்தல், உங்கள் ஆர்டரை நிர்வகித்தல், வாடிக்கையாளர் உறவுகள் மற்றும் புகார்கள், மற்றும் நீங்கள் ஏற்றுக்கொண்ட சந்தர்ப்பங்களில், Le Monde மற்றும்/அல்லது அதன் கூட்டாளர்களிடமிருந்து மின்னணு சந்தைப்படுத்தல் தொடர்பு.'"
            ],
            "application/vnd.google.colaboratory.intrinsic+json": {
              "type": "string"
            }
          },
          "metadata": {},
          "execution_count": 24
        }
      ]
    },
    {
      "cell_type": "code",
      "source": [
        "#text_speech"
      ],
      "metadata": {
        "id": "0izxFdYNHHgt"
      },
      "execution_count": 25,
      "outputs": []
    },
    {
      "cell_type": "code",
      "source": [
        "!pip install gtts #google text to speech"
      ],
      "metadata": {
        "colab": {
          "base_uri": "https://localhost:8080/"
        },
        "id": "NnSbZvnyHHjd",
        "outputId": "de453b2d-c75f-4afe-d389-23c139490d4b"
      },
      "execution_count": 26,
      "outputs": [
        {
          "output_type": "stream",
          "name": "stdout",
          "text": [
            "Collecting gtts\n",
            "  Downloading gTTS-2.5.4-py3-none-any.whl.metadata (4.1 kB)\n",
            "Requirement already satisfied: requests<3,>=2.27 in /usr/local/lib/python3.10/dist-packages (from gtts) (2.32.3)\n",
            "Requirement already satisfied: click<8.2,>=7.1 in /usr/local/lib/python3.10/dist-packages (from gtts) (8.1.8)\n",
            "Requirement already satisfied: charset-normalizer<4,>=2 in /usr/local/lib/python3.10/dist-packages (from requests<3,>=2.27->gtts) (3.4.1)\n",
            "Requirement already satisfied: idna<4,>=2.5 in /usr/local/lib/python3.10/dist-packages (from requests<3,>=2.27->gtts) (3.10)\n",
            "Requirement already satisfied: urllib3<3,>=1.21.1 in /usr/local/lib/python3.10/dist-packages (from requests<3,>=2.27->gtts) (2.3.0)\n",
            "Requirement already satisfied: certifi>=2017.4.17 in /usr/local/lib/python3.10/dist-packages (from requests<3,>=2.27->gtts) (2024.12.14)\n",
            "Downloading gTTS-2.5.4-py3-none-any.whl (29 kB)\n",
            "Installing collected packages: gtts\n",
            "Successfully installed gtts-2.5.4\n"
          ]
        }
      ]
    },
    {
      "cell_type": "code",
      "source": [
        "from gtts import gTTS"
      ],
      "metadata": {
        "id": "7_FtMX8mHHpB"
      },
      "execution_count": 27,
      "outputs": []
    },
    {
      "cell_type": "code",
      "source": [
        "speech=gTTS(text=text,lang='en')"
      ],
      "metadata": {
        "id": "cGR2o8N_H8NE"
      },
      "execution_count": 28,
      "outputs": []
    },
    {
      "cell_type": "code",
      "source": [
        "speech.save('french_english.mp3')"
      ],
      "metadata": {
        "id": "SA09MqlWIdoq"
      },
      "execution_count": 29,
      "outputs": []
    },
    {
      "cell_type": "code",
      "source": [
        "speech=gTTS(text=text,lang='hi')"
      ],
      "metadata": {
        "id": "DVkLko7WIjBC"
      },
      "execution_count": 30,
      "outputs": []
    },
    {
      "cell_type": "code",
      "source": [
        "speech.save('french_hindi.mp3')"
      ],
      "metadata": {
        "id": "BCOCwbsqJdGo"
      },
      "execution_count": 31,
      "outputs": []
    },
    {
      "cell_type": "code",
      "source": [
        "speech=gTTS(text=text,lang='ta')"
      ],
      "metadata": {
        "id": "QU3s2tyyJdK1"
      },
      "execution_count": 33,
      "outputs": []
    },
    {
      "cell_type": "code",
      "source": [
        "speech.save('french_tamil.mp3')"
      ],
      "metadata": {
        "id": "DjFZ8zRnJdNU"
      },
      "execution_count": 34,
      "outputs": []
    },
    {
      "cell_type": "code",
      "source": [],
      "metadata": {
        "id": "f6oc18wCJdP1"
      },
      "execution_count": null,
      "outputs": []
    },
    {
      "cell_type": "code",
      "source": [],
      "metadata": {
        "id": "DGBIGC2qJdSO"
      },
      "execution_count": null,
      "outputs": []
    }
  ]
}