{
 "cells": [
  {
   "cell_type": "code",
   "execution_count": 2,
   "id": "a8dbccad",
   "metadata": {},
   "outputs": [],
   "source": [
    "import pandas as pd"
   ]
  },
  {
   "cell_type": "code",
   "execution_count": 3,
   "id": "6eff6990",
   "metadata": {},
   "outputs": [
    {
     "data": {
      "text/html": [
       "<div>\n",
       "<style scoped>\n",
       "    .dataframe tbody tr th:only-of-type {\n",
       "        vertical-align: middle;\n",
       "    }\n",
       "\n",
       "    .dataframe tbody tr th {\n",
       "        vertical-align: top;\n",
       "    }\n",
       "\n",
       "    .dataframe thead th {\n",
       "        text-align: right;\n",
       "    }\n",
       "</style>\n",
       "<table border=\"1\" class=\"dataframe\">\n",
       "  <thead>\n",
       "    <tr style=\"text-align: right;\">\n",
       "      <th></th>\n",
       "      <th>Review</th>\n",
       "      <th>Sentiment</th>\n",
       "    </tr>\n",
       "  </thead>\n",
       "  <tbody>\n",
       "    <tr>\n",
       "      <th>0</th>\n",
       "      <td>Wow!!! This product is absolutely amazing! I l...</td>\n",
       "      <td>Positive</td>\n",
       "    </tr>\n",
       "    <tr>\n",
       "      <th>1</th>\n",
       "      <td>Ugh, such a horrible experience. Never buying ...</td>\n",
       "      <td>Negative</td>\n",
       "    </tr>\n",
       "    <tr>\n",
       "      <th>2</th>\n",
       "      <td>Not bad, but not great either. It’s okay for t...</td>\n",
       "      <td>Neutral</td>\n",
       "    </tr>\n",
       "    <tr>\n",
       "      <th>3</th>\n",
       "      <td>Can't believe this is happening!!! 😱 Ordered a...</td>\n",
       "      <td>Negative</td>\n",
       "    </tr>\n",
       "    <tr>\n",
       "      <th>4</th>\n",
       "      <td>Thank you for your fast delivery! 🚚 I'm super ...</td>\n",
       "      <td>Positive</td>\n",
       "    </tr>\n",
       "  </tbody>\n",
       "</table>\n",
       "</div>"
      ],
      "text/plain": [
       "                                              Review Sentiment\n",
       "0  Wow!!! This product is absolutely amazing! I l...  Positive\n",
       "1  Ugh, such a horrible experience. Never buying ...  Negative\n",
       "2  Not bad, but not great either. It’s okay for t...   Neutral\n",
       "3  Can't believe this is happening!!! 😱 Ordered a...  Negative\n",
       "4  Thank you for your fast delivery! 🚚 I'm super ...  Positive"
      ]
     },
     "execution_count": 3,
     "metadata": {},
     "output_type": "execute_result"
    }
   ],
   "source": [
    "data = pd.read_excel(r\"data/sentiment_preprocessing.xlsx\")\n",
    "data.head(5)"
   ]
  },
  {
   "cell_type": "code",
   "execution_count": 5,
   "id": "fd95581d",
   "metadata": {},
   "outputs": [
    {
     "data": {
      "text/plain": [
       "0"
      ]
     },
     "execution_count": 5,
     "metadata": {},
     "output_type": "execute_result"
    }
   ],
   "source": [
    "data.duplicated().sum()"
   ]
  },
  {
   "cell_type": "code",
   "execution_count": 6,
   "id": "a30345b1",
   "metadata": {},
   "outputs": [
    {
     "data": {
      "text/plain": [
       "Review       0\n",
       "Sentiment    0\n",
       "dtype: int64"
      ]
     },
     "execution_count": 6,
     "metadata": {},
     "output_type": "execute_result"
    }
   ],
   "source": [
    "data.isnull().sum()"
   ]
  },
  {
   "cell_type": "code",
   "execution_count": 8,
   "id": "df429dc7",
   "metadata": {},
   "outputs": [
    {
     "name": "stdout",
     "output_type": "stream",
     "text": [
      "<class 'pandas.core.frame.DataFrame'>\n",
      "RangeIndex: 57 entries, 0 to 56\n",
      "Data columns (total 2 columns):\n",
      " #   Column     Non-Null Count  Dtype \n",
      "---  ------     --------------  ----- \n",
      " 0   Review     57 non-null     object\n",
      " 1   Sentiment  57 non-null     object\n",
      "dtypes: object(2)\n",
      "memory usage: 1.0+ KB\n"
     ]
    }
   ],
   "source": [
    "data.info()"
   ]
  },
  {
   "cell_type": "code",
   "execution_count": 9,
   "id": "3c8b720e",
   "metadata": {},
   "outputs": [
    {
     "data": {
      "text/plain": [
       "Sentiment\n",
       "Positive    29\n",
       "Negative    25\n",
       "Neutral      3\n",
       "Name: count, dtype: int64"
      ]
     },
     "execution_count": 9,
     "metadata": {},
     "output_type": "execute_result"
    }
   ],
   "source": [
    "data['Sentiment'].value_counts()"
   ]
  },
  {
   "cell_type": "markdown",
   "id": "9ad35eb8",
   "metadata": {},
   "source": [
    "## Text Preprocessing"
   ]
  },
  {
   "cell_type": "markdown",
   "id": "8a149809",
   "metadata": {},
   "source": [
    "### 1. Lower casing"
   ]
  },
  {
   "cell_type": "code",
   "execution_count": 12,
   "id": "55b48e9b",
   "metadata": {},
   "outputs": [
    {
     "data": {
      "text/plain": [
       "0    wow!!! this product is absolutely amazing! i l...\n",
       "1    ugh, such a horrible experience. never buying ...\n",
       "2    not bad, but not great either. it’s okay for t...\n",
       "3    can't believe this is happening!!! 😱 ordered a...\n",
       "4    thank you for your fast delivery! 🚚 i'm super ...\n",
       "Name: Review, dtype: object"
      ]
     },
     "execution_count": 12,
     "metadata": {},
     "output_type": "execute_result"
    }
   ],
   "source": [
    "data['Review'] = data['Review'].str.lower()\n",
    "data.Review.head()"
   ]
  },
  {
   "cell_type": "markdown",
   "id": "46935590",
   "metadata": {},
   "source": [
    "### 2. Removing HTML tags"
   ]
  },
  {
   "cell_type": "code",
   "execution_count": 15,
   "id": "83e4ff95",
   "metadata": {},
   "outputs": [],
   "source": [
    "import re\n",
    "def remove_html_tags(text):\n",
    "    pattern = re.compile('<.*?>')\n",
    "    return pattern.sub(r\"\",text)"
   ]
  },
  {
   "cell_type": "code",
   "execution_count": 16,
   "id": "5b1f1100",
   "metadata": {},
   "outputs": [
    {
     "data": {
      "text/plain": [
       "0    wow!!! this product is absolutely amazing! i l...\n",
       "1    ugh, such a horrible experience. never buying ...\n",
       "2    not bad, but not great either. it’s okay for t...\n",
       "3    can't believe this is happening!!! 😱 ordered a...\n",
       "4    thank you for your fast delivery! 🚚 i'm super ...\n",
       "Name: Review, dtype: object"
      ]
     },
     "execution_count": 16,
     "metadata": {},
     "output_type": "execute_result"
    }
   ],
   "source": [
    "data['Review'] = data['Review'].apply(remove_html_tags)\n",
    "data.Review.head()"
   ]
  },
  {
   "cell_type": "markdown",
   "id": "be9276e0",
   "metadata": {},
   "source": [
    "### 3. Removing URL's"
   ]
  },
  {
   "cell_type": "code",
   "execution_count": null,
   "id": "27ba74ba",
   "metadata": {},
   "outputs": [],
   "source": []
  },
  {
   "cell_type": "code",
   "execution_count": null,
   "id": "23aa2daf",
   "metadata": {},
   "outputs": [],
   "source": []
  }
 ],
 "metadata": {
  "kernelspec": {
   "display_name": "Python 3 (ipykernel)",
   "language": "python",
   "name": "python3"
  },
  "language_info": {
   "codemirror_mode": {
    "name": "ipython",
    "version": 3
   },
   "file_extension": ".py",
   "mimetype": "text/x-python",
   "name": "python",
   "nbconvert_exporter": "python",
   "pygments_lexer": "ipython3",
   "version": "3.11.7"
  }
 },
 "nbformat": 4,
 "nbformat_minor": 5
}
