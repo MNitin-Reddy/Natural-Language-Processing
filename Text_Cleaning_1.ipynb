{
 "cells": [
  {
   "cell_type": "code",
   "execution_count": 1,
   "id": "2d079331",
   "metadata": {},
   "outputs": [],
   "source": [
    "example=\"Musk was born in Pretoria, South Africa, to Maye (née Haldeman), a model, and Errol Musk, a businessman and engineer. Musk briefly attended the University of Pretoria before immigrating to Canada at the age of 18, acquiring citizenship through his Canadian-born mother. Two years later he matriculated at Queen's University at Kingston in Canada. Musk later transferred to the University of Pennsylvania and received bachelor's degrees in economics and physics. He moved to California in 1995 to attend Stanford University but never enrolled in classes, and with his brother Kimbal co-founded the online city guide software company Zip2.\""
   ]
  },
  {
   "cell_type": "code",
   "execution_count": 2,
   "id": "aadb1299",
   "metadata": {},
   "outputs": [],
   "source": [
    "import nltk #natural language toolkit"
   ]
  },
  {
   "cell_type": "code",
   "execution_count": null,
   "id": "2db18f83",
   "metadata": {},
   "outputs": [],
   "source": [
    "#nltk.download()"
   ]
  },
  {
   "cell_type": "code",
   "execution_count": 3,
   "id": "acc4d799",
   "metadata": {},
   "outputs": [],
   "source": [
    "from nltk.tokenize import sent_tokenize"
   ]
  },
  {
   "cell_type": "code",
   "execution_count": 4,
   "id": "1164e239",
   "metadata": {},
   "outputs": [
    {
     "data": {
      "text/plain": [
       "['Musk was born in Pretoria, South Africa, to Maye (née Haldeman), a model, and Errol Musk, a businessman and engineer.',\n",
       " 'Musk briefly attended the University of Pretoria before immigrating to Canada at the age of 18, acquiring citizenship through his Canadian-born mother.',\n",
       " \"Two years later he matriculated at Queen's University at Kingston in Canada.\",\n",
       " \"Musk later transferred to the University of Pennsylvania and received bachelor's degrees in economics and physics.\",\n",
       " 'He moved to California in 1995 to attend Stanford University but never enrolled in classes, and with his brother Kimbal co-founded the online city guide software company Zip2.']"
      ]
     },
     "execution_count": 4,
     "metadata": {},
     "output_type": "execute_result"
    }
   ],
   "source": [
    "sent_tokenize(example)"
   ]
  },
  {
   "cell_type": "code",
   "execution_count": 5,
   "id": "afd8ffc9",
   "metadata": {},
   "outputs": [
    {
     "data": {
      "text/plain": [
       "5"
      ]
     },
     "execution_count": 5,
     "metadata": {},
     "output_type": "execute_result"
    }
   ],
   "source": [
    "len(sent_tokenize(example))"
   ]
  },
  {
   "cell_type": "code",
   "execution_count": 6,
   "id": "b72beec1",
   "metadata": {},
   "outputs": [
    {
     "name": "stdout",
     "output_type": "stream",
     "text": [
      "Musk was born in Pretoria, South Africa, to Maye (née Haldeman), a model, and Errol Musk, a businessman and engineer.\n",
      "Musk briefly attended the University of Pretoria before immigrating to Canada at the age of 18, acquiring citizenship through his Canadian-born mother.\n",
      "Two years later he matriculated at Queen's University at Kingston in Canada.\n",
      "Musk later transferred to the University of Pennsylvania and received bachelor's degrees in economics and physics.\n",
      "He moved to California in 1995 to attend Stanford University but never enrolled in classes, and with his brother Kimbal co-founded the online city guide software company Zip2.\n"
     ]
    }
   ],
   "source": [
    "for sent in sent_tokenize(example):\n",
    "    print(sent)"
   ]
  },
  {
   "cell_type": "code",
   "execution_count": 7,
   "id": "3e3304d2",
   "metadata": {},
   "outputs": [],
   "source": [
    "from nltk.tokenize import word_tokenize"
   ]
  },
  {
   "cell_type": "code",
   "execution_count": 8,
   "id": "6ec049b3",
   "metadata": {},
   "outputs": [
    {
     "data": {
      "text/plain": [
       "['Musk',\n",
       " 'was',\n",
       " 'born',\n",
       " 'in',\n",
       " 'Pretoria',\n",
       " ',',\n",
       " 'South',\n",
       " 'Africa',\n",
       " ',',\n",
       " 'to',\n",
       " 'Maye',\n",
       " '(',\n",
       " 'née',\n",
       " 'Haldeman',\n",
       " ')',\n",
       " ',',\n",
       " 'a',\n",
       " 'model',\n",
       " ',',\n",
       " 'and',\n",
       " 'Errol',\n",
       " 'Musk',\n",
       " ',',\n",
       " 'a',\n",
       " 'businessman',\n",
       " 'and',\n",
       " 'engineer',\n",
       " '.',\n",
       " 'Musk',\n",
       " 'briefly',\n",
       " 'attended',\n",
       " 'the',\n",
       " 'University',\n",
       " 'of',\n",
       " 'Pretoria',\n",
       " 'before',\n",
       " 'immigrating',\n",
       " 'to',\n",
       " 'Canada',\n",
       " 'at',\n",
       " 'the',\n",
       " 'age',\n",
       " 'of',\n",
       " '18',\n",
       " ',',\n",
       " 'acquiring',\n",
       " 'citizenship',\n",
       " 'through',\n",
       " 'his',\n",
       " 'Canadian-born',\n",
       " 'mother',\n",
       " '.',\n",
       " 'Two',\n",
       " 'years',\n",
       " 'later',\n",
       " 'he',\n",
       " 'matriculated',\n",
       " 'at',\n",
       " 'Queen',\n",
       " \"'s\",\n",
       " 'University',\n",
       " 'at',\n",
       " 'Kingston',\n",
       " 'in',\n",
       " 'Canada',\n",
       " '.',\n",
       " 'Musk',\n",
       " 'later',\n",
       " 'transferred',\n",
       " 'to',\n",
       " 'the',\n",
       " 'University',\n",
       " 'of',\n",
       " 'Pennsylvania',\n",
       " 'and',\n",
       " 'received',\n",
       " 'bachelor',\n",
       " \"'s\",\n",
       " 'degrees',\n",
       " 'in',\n",
       " 'economics',\n",
       " 'and',\n",
       " 'physics',\n",
       " '.',\n",
       " 'He',\n",
       " 'moved',\n",
       " 'to',\n",
       " 'California',\n",
       " 'in',\n",
       " '1995',\n",
       " 'to',\n",
       " 'attend',\n",
       " 'Stanford',\n",
       " 'University',\n",
       " 'but',\n",
       " 'never',\n",
       " 'enrolled',\n",
       " 'in',\n",
       " 'classes',\n",
       " ',',\n",
       " 'and',\n",
       " 'with',\n",
       " 'his',\n",
       " 'brother',\n",
       " 'Kimbal',\n",
       " 'co-founded',\n",
       " 'the',\n",
       " 'online',\n",
       " 'city',\n",
       " 'guide',\n",
       " 'software',\n",
       " 'company',\n",
       " 'Zip2',\n",
       " '.']"
      ]
     },
     "execution_count": 8,
     "metadata": {},
     "output_type": "execute_result"
    }
   ],
   "source": [
    "word_tokenize(example)"
   ]
  },
  {
   "cell_type": "code",
   "execution_count": 9,
   "id": "27106121",
   "metadata": {},
   "outputs": [],
   "source": [
    "from nltk.corpus import stopwords"
   ]
  },
  {
   "cell_type": "code",
   "execution_count": 10,
   "id": "489b5029",
   "metadata": {},
   "outputs": [
    {
     "data": {
      "text/plain": [
       "['i',\n",
       " 'me',\n",
       " 'my',\n",
       " 'myself',\n",
       " 'we',\n",
       " 'our',\n",
       " 'ours',\n",
       " 'ourselves',\n",
       " 'you',\n",
       " \"you're\",\n",
       " \"you've\",\n",
       " \"you'll\",\n",
       " \"you'd\",\n",
       " 'your',\n",
       " 'yours',\n",
       " 'yourself',\n",
       " 'yourselves',\n",
       " 'he',\n",
       " 'him',\n",
       " 'his',\n",
       " 'himself',\n",
       " 'she',\n",
       " \"she's\",\n",
       " 'her',\n",
       " 'hers',\n",
       " 'herself',\n",
       " 'it',\n",
       " \"it's\",\n",
       " 'its',\n",
       " 'itself',\n",
       " 'they',\n",
       " 'them',\n",
       " 'their',\n",
       " 'theirs',\n",
       " 'themselves',\n",
       " 'what',\n",
       " 'which',\n",
       " 'who',\n",
       " 'whom',\n",
       " 'this',\n",
       " 'that',\n",
       " \"that'll\",\n",
       " 'these',\n",
       " 'those',\n",
       " 'am',\n",
       " 'is',\n",
       " 'are',\n",
       " 'was',\n",
       " 'were',\n",
       " 'be',\n",
       " 'been',\n",
       " 'being',\n",
       " 'have',\n",
       " 'has',\n",
       " 'had',\n",
       " 'having',\n",
       " 'do',\n",
       " 'does',\n",
       " 'did',\n",
       " 'doing',\n",
       " 'a',\n",
       " 'an',\n",
       " 'the',\n",
       " 'and',\n",
       " 'but',\n",
       " 'if',\n",
       " 'or',\n",
       " 'because',\n",
       " 'as',\n",
       " 'until',\n",
       " 'while',\n",
       " 'of',\n",
       " 'at',\n",
       " 'by',\n",
       " 'for',\n",
       " 'with',\n",
       " 'about',\n",
       " 'against',\n",
       " 'between',\n",
       " 'into',\n",
       " 'through',\n",
       " 'during',\n",
       " 'before',\n",
       " 'after',\n",
       " 'above',\n",
       " 'below',\n",
       " 'to',\n",
       " 'from',\n",
       " 'up',\n",
       " 'down',\n",
       " 'in',\n",
       " 'out',\n",
       " 'on',\n",
       " 'off',\n",
       " 'over',\n",
       " 'under',\n",
       " 'again',\n",
       " 'further',\n",
       " 'then',\n",
       " 'once',\n",
       " 'here',\n",
       " 'there',\n",
       " 'when',\n",
       " 'where',\n",
       " 'why',\n",
       " 'how',\n",
       " 'all',\n",
       " 'any',\n",
       " 'both',\n",
       " 'each',\n",
       " 'few',\n",
       " 'more',\n",
       " 'most',\n",
       " 'other',\n",
       " 'some',\n",
       " 'such',\n",
       " 'no',\n",
       " 'nor',\n",
       " 'not',\n",
       " 'only',\n",
       " 'own',\n",
       " 'same',\n",
       " 'so',\n",
       " 'than',\n",
       " 'too',\n",
       " 'very',\n",
       " 's',\n",
       " 't',\n",
       " 'can',\n",
       " 'will',\n",
       " 'just',\n",
       " 'don',\n",
       " \"don't\",\n",
       " 'should',\n",
       " \"should've\",\n",
       " 'now',\n",
       " 'd',\n",
       " 'll',\n",
       " 'm',\n",
       " 'o',\n",
       " 're',\n",
       " 've',\n",
       " 'y',\n",
       " 'ain',\n",
       " 'aren',\n",
       " \"aren't\",\n",
       " 'couldn',\n",
       " \"couldn't\",\n",
       " 'didn',\n",
       " \"didn't\",\n",
       " 'doesn',\n",
       " \"doesn't\",\n",
       " 'hadn',\n",
       " \"hadn't\",\n",
       " 'hasn',\n",
       " \"hasn't\",\n",
       " 'haven',\n",
       " \"haven't\",\n",
       " 'isn',\n",
       " \"isn't\",\n",
       " 'ma',\n",
       " 'mightn',\n",
       " \"mightn't\",\n",
       " 'mustn',\n",
       " \"mustn't\",\n",
       " 'needn',\n",
       " \"needn't\",\n",
       " 'shan',\n",
       " \"shan't\",\n",
       " 'shouldn',\n",
       " \"shouldn't\",\n",
       " 'wasn',\n",
       " \"wasn't\",\n",
       " 'weren',\n",
       " \"weren't\",\n",
       " 'won',\n",
       " \"won't\",\n",
       " 'wouldn',\n",
       " \"wouldn't\"]"
      ]
     },
     "execution_count": 10,
     "metadata": {},
     "output_type": "execute_result"
    }
   ],
   "source": [
    "stopwords.words('english')"
   ]
  },
  {
   "cell_type": "code",
   "execution_count": null,
   "id": "1889c453",
   "metadata": {},
   "outputs": [],
   "source": [
    "#!pip install wordcloud"
   ]
  },
  {
   "cell_type": "code",
   "execution_count": 11,
   "id": "f524af4e",
   "metadata": {},
   "outputs": [],
   "source": [
    "from wordcloud import WordCloud"
   ]
  },
  {
   "cell_type": "code",
   "execution_count": 13,
   "id": "25207b77",
   "metadata": {},
   "outputs": [],
   "source": [
    "wcloud=WordCloud(max_words=50)"
   ]
  },
  {
   "cell_type": "code",
   "execution_count": 14,
   "id": "9c8beb70",
   "metadata": {},
   "outputs": [
    {
     "data": {
      "text/plain": [
       "<wordcloud.wordcloud.WordCloud at 0x1bbb2ffcf40>"
      ]
     },
     "execution_count": 14,
     "metadata": {},
     "output_type": "execute_result"
    }
   ],
   "source": [
    "wcloud.generate(example)"
   ]
  },
  {
   "cell_type": "code",
   "execution_count": 15,
   "id": "daad68eb",
   "metadata": {},
   "outputs": [],
   "source": [
    "import matplotlib.pyplot as plt"
   ]
  },
  {
   "cell_type": "code",
   "execution_count": 16,
   "id": "2f6e9341",
   "metadata": {},
   "outputs": [
    {
     "data": {
      "image/png": "[encoded data removed]",
      "text/plain": [
       "<Figure size 1600x1200 with 1 Axes>"
      ]
     },
     "metadata": {},
     "output_type": "display_data"
    }
   ],
   "source": [
    "plt.figure(figsize=(16,12))\n",
    "plt.imshow(wcloud)\n",
    "plt.show()"
   ]
  },
  {
   "cell_type": "code",
   "execution_count": 17,
   "id": "bb9a7258",
   "metadata": {},
   "outputs": [],
   "source": [
    "from nltk.tokenize import WhitespaceTokenizer"
   ]
  },
  {
   "cell_type": "code",
   "execution_count": 18,
   "id": "c430947d",
   "metadata": {},
   "outputs": [],
   "source": [
    "white=WhitespaceTokenizer()"
   ]
  },
  {
   "cell_type": "code",
   "execution_count": 19,
   "id": "6d306439",
   "metadata": {},
   "outputs": [
    {
     "data": {
      "text/plain": [
       "['Musk',\n",
       " 'was',\n",
       " 'born',\n",
       " 'in',\n",
       " 'Pretoria,',\n",
       " 'South',\n",
       " 'Africa,',\n",
       " 'to',\n",
       " 'Maye',\n",
       " '(née',\n",
       " 'Haldeman),',\n",
       " 'a',\n",
       " 'model,',\n",
       " 'and',\n",
       " 'Errol',\n",
       " 'Musk,',\n",
       " 'a',\n",
       " 'businessman',\n",
       " 'and',\n",
       " 'engineer.',\n",
       " 'Musk',\n",
       " 'briefly',\n",
       " 'attended',\n",
       " 'the',\n",
       " 'University',\n",
       " 'of',\n",
       " 'Pretoria',\n",
       " 'before',\n",
       " 'immigrating',\n",
       " 'to',\n",
       " 'Canada',\n",
       " 'at',\n",
       " 'the',\n",
       " 'age',\n",
       " 'of',\n",
       " '18,',\n",
       " 'acquiring',\n",
       " 'citizenship',\n",
       " 'through',\n",
       " 'his',\n",
       " 'Canadian-born',\n",
       " 'mother.',\n",
       " 'Two',\n",
       " 'years',\n",
       " 'later',\n",
       " 'he',\n",
       " 'matriculated',\n",
       " 'at',\n",
       " \"Queen's\",\n",
       " 'University',\n",
       " 'at',\n",
       " 'Kingston',\n",
       " 'in',\n",
       " 'Canada.',\n",
       " 'Musk',\n",
       " 'later',\n",
       " 'transferred',\n",
       " 'to',\n",
       " 'the',\n",
       " 'University',\n",
       " 'of',\n",
       " 'Pennsylvania',\n",
       " 'and',\n",
       " 'received',\n",
       " \"bachelor's\",\n",
       " 'degrees',\n",
       " 'in',\n",
       " 'economics',\n",
       " 'and',\n",
       " 'physics.',\n",
       " 'He',\n",
       " 'moved',\n",
       " 'to',\n",
       " 'California',\n",
       " 'in',\n",
       " '1995',\n",
       " 'to',\n",
       " 'attend',\n",
       " 'Stanford',\n",
       " 'University',\n",
       " 'but',\n",
       " 'never',\n",
       " 'enrolled',\n",
       " 'in',\n",
       " 'classes,',\n",
       " 'and',\n",
       " 'with',\n",
       " 'his',\n",
       " 'brother',\n",
       " 'Kimbal',\n",
       " 'co-founded',\n",
       " 'the',\n",
       " 'online',\n",
       " 'city',\n",
       " 'guide',\n",
       " 'software',\n",
       " 'company',\n",
       " 'Zip2.']"
      ]
     },
     "execution_count": 19,
     "metadata": {},
     "output_type": "execute_result"
    }
   ],
   "source": [
    "white.tokenize(example)"
   ]
  },
  {
   "cell_type": "code",
   "execution_count": 21,
   "id": "e22c43ae",
   "metadata": {},
   "outputs": [],
   "source": [
    "test=\"Hello! How's it going?\""
   ]
  },
  {
   "cell_type": "code",
   "execution_count": 22,
   "id": "21f0b47a",
   "metadata": {},
   "outputs": [
    {
     "name": "stdout",
     "output_type": "stream",
     "text": [
      "['Hello!', \"How's\", 'it', 'going?']\n"
     ]
    }
   ],
   "source": [
    "print(white.tokenize(test))"
   ]
  },
  {
   "cell_type": "code",
   "execution_count": 23,
   "id": "191f3ca0",
   "metadata": {},
   "outputs": [
    {
     "name": "stdout",
     "output_type": "stream",
     "text": [
      "['Hello', '!', 'How', \"'s\", 'it', 'going', '?']\n"
     ]
    }
   ],
   "source": [
    "print(word_tokenize(test))"
   ]
  },
  {
   "cell_type": "code",
   "execution_count": null,
   "id": "4b0c9ad7",
   "metadata": {},
   "outputs": [],
   "source": []
  },
  {
   "cell_type": "code",
   "execution_count": null,
   "id": "25ea3834",
   "metadata": {},
   "outputs": [],
   "source": [
    "#Stemming & Lemmatization"
   ]
  },
  {
   "cell_type": "code",
   "execution_count": 24,
   "id": "674fd6ba",
   "metadata": {},
   "outputs": [],
   "source": [
    "from nltk.stem import PorterStemmer"
   ]
  },
  {
   "cell_type": "code",
   "execution_count": 25,
   "id": "b9311885",
   "metadata": {},
   "outputs": [],
   "source": [
    "stem=PorterStemmer()"
   ]
  },
  {
   "cell_type": "code",
   "execution_count": 26,
   "id": "c17a3f89",
   "metadata": {},
   "outputs": [],
   "source": [
    "words=['studying', 'ninez', 'care','fairly', 'easily', 'run','running','runner','ran','runs','going','goes','gone','go','history','historical']"
   ]
  },
  {
   "cell_type": "code",
   "execution_count": 27,
   "id": "d648bd2a",
   "metadata": {},
   "outputs": [
    {
     "name": "stdout",
     "output_type": "stream",
     "text": [
      "studying-----------studi\n",
      "ninez-----------ninez\n",
      "care-----------care\n",
      "fairly-----------fairli\n",
      "easily-----------easili\n",
      "run-----------run\n",
      "running-----------run\n",
      "runner-----------runner\n",
      "ran-----------ran\n",
      "runs-----------run\n",
      "going-----------go\n",
      "goes-----------goe\n",
      "gone-----------gone\n",
      "go-----------go\n",
      "history-----------histori\n",
      "historical-----------histor\n"
     ]
    }
   ],
   "source": [
    "for word in words:\n",
    "    print(word + \"-----------\"+ stem.stem(word))"
   ]
  },
  {
   "cell_type": "code",
   "execution_count": 28,
   "id": "045a9729",
   "metadata": {},
   "outputs": [],
   "source": [
    "from nltk.stem import WordNetLemmatizer"
   ]
  },
  {
   "cell_type": "code",
   "execution_count": 29,
   "id": "349fd0a1",
   "metadata": {},
   "outputs": [],
   "source": [
    "lemma=WordNetLemmatizer()"
   ]
  },
  {
   "cell_type": "code",
   "execution_count": 30,
   "id": "07802d44",
   "metadata": {},
   "outputs": [
    {
     "name": "stdout",
     "output_type": "stream",
     "text": [
      "studying-----------studying\n",
      "ninez-----------ninez\n",
      "care-----------care\n",
      "fairly-----------fairly\n",
      "easily-----------easily\n",
      "run-----------run\n",
      "running-----------running\n",
      "runner-----------runner\n",
      "ran-----------ran\n",
      "runs-----------run\n",
      "going-----------going\n",
      "goes-----------go\n",
      "gone-----------gone\n",
      "go-----------go\n",
      "history-----------history\n",
      "historical-----------historical\n"
     ]
    }
   ],
   "source": [
    "for word in words:\n",
    "    print(word + \"-----------\"+ lemma.lemmatize(word))"
   ]
  },
  {
   "cell_type": "code",
   "execution_count": 31,
   "id": "03878483",
   "metadata": {},
   "outputs": [],
   "source": [
    "editorial = \"Bhole Baba is absconding, after over a hundred people died in a stampede at his Hathras congregation. One response to this tragedy is to ask if this baba is ‘real’ or ‘fake’. But this is a false binary. All gurus or babas work on our emotions, not logic. Only, some abuse their power and collapse, some get institutionalised over generations as gods and prophets.And they do not flourish in India alone. In America, they are called the Charismatics who tell you how the Holy Spirit works miracles in human lives. Blind will see. Lame will walk. Poor will be prosperous. They are so powerful that they now fund politicians, who ensure their voice shapes legislation, and they receive tax benefits and protection from law. They have convinced Americans that Jesus wants them to carry guns, hate homosexuals, and deny women reproductive rights.\""
   ]
  },
  {
   "cell_type": "code",
   "execution_count": 32,
   "id": "53c08f33",
   "metadata": {},
   "outputs": [],
   "source": [
    "st=stopwords.words('english')"
   ]
  },
  {
   "cell_type": "code",
   "execution_count": 33,
   "id": "c1920f2d",
   "metadata": {},
   "outputs": [],
   "source": [
    "sentence=sent_tokenize(editorial)"
   ]
  },
  {
   "cell_type": "code",
   "execution_count": 34,
   "id": "7cf3175a",
   "metadata": {},
   "outputs": [
    {
     "data": {
      "text/plain": [
       "['Bhole Baba is absconding, after over a hundred people died in a stampede at his Hathras congregation.',\n",
       " 'One response to this tragedy is to ask if this baba is ‘real’ or ‘fake’.',\n",
       " 'But this is a false binary.',\n",
       " 'All gurus or babas work on our emotions, not logic.',\n",
       " 'Only, some abuse their power and collapse, some get institutionalised over generations as gods and prophets.And they do not flourish in India alone.',\n",
       " 'In America, they are called the Charismatics who tell you how the Holy Spirit works miracles in human lives.',\n",
       " 'Blind will see.',\n",
       " 'Lame will walk.',\n",
       " 'Poor will be prosperous.',\n",
       " 'They are so powerful that they now fund politicians, who ensure their voice shapes legislation, and they receive tax benefits and protection from law.',\n",
       " 'They have convinced Americans that Jesus wants them to carry guns, hate homosexuals, and deny women reproductive rights.']"
      ]
     },
     "execution_count": 34,
     "metadata": {},
     "output_type": "execute_result"
    }
   ],
   "source": [
    "sentence"
   ]
  },
  {
   "cell_type": "code",
   "execution_count": 36,
   "id": "47c2424a",
   "metadata": {},
   "outputs": [],
   "source": [
    "for i in range(len(sentence)):\n",
    "    words=word_tokenize(sentence[i])\n",
    "    words_lemma=[lemma.lemmatize(word) for word in words if word not in st]\n",
    "    sentence[i]=\" \".join(words_lemma)"
   ]
  },
  {
   "cell_type": "code",
   "execution_count": 37,
   "id": "9133272f",
   "metadata": {},
   "outputs": [
    {
     "data": {
      "text/plain": [
       "['Bhole Baba absconding , hundred people died stampede Hathras congregation .',\n",
       " 'One response tragedy ask baba ‘ real ’ ‘ fake ’ .',\n",
       " 'But false binary .',\n",
       " 'All guru baba work emotion , logic .',\n",
       " 'Only , abuse power collapse , get institutionalised generation god prophets.And flourish India alone .',\n",
       " 'In America , called Charismatics tell Holy Spirit work miracle human life .',\n",
       " 'Blind see .',\n",
       " 'Lame walk .',\n",
       " 'Poor prosperous .',\n",
       " 'They powerful fund politician , ensure voice shape legislation , receive tax benefit protection law .',\n",
       " 'They convinced Americans Jesus want carry gun , hate homosexual , deny woman reproductive right .']"
      ]
     },
     "execution_count": 37,
     "metadata": {},
     "output_type": "execute_result"
    }
   ],
   "source": [
    "sentence"
   ]
  },
  {
   "cell_type": "code",
   "execution_count": null,
   "id": "541182ad",
   "metadata": {},
   "outputs": [],
   "source": []
  },
  {
   "cell_type": "code",
   "execution_count": null,
   "id": "4f2a2bcc",
   "metadata": {},
   "outputs": [],
   "source": []
  },
  {
   "cell_type": "code",
   "execution_count": null,
   "id": "8765e0da",
   "metadata": {},
   "outputs": [],
   "source": []
  }
 ],
 "metadata": {
  "kernelspec": {
   "display_name": "Python 3 (ipykernel)",
   "language": "python",
   "name": "python3"
  },
  "language_info": {
   "codemirror_mode": {
    "name": "ipython",
    "version": 3
   },
   "file_extension": ".py",
   "mimetype": "text/x-python",
   "name": "python",
   "nbconvert_exporter": "python",
   "pygments_lexer": "ipython3",
   "version": "3.9.13"
  }
 },
 "nbformat": 4,
 "nbformat_minor": 5
}
