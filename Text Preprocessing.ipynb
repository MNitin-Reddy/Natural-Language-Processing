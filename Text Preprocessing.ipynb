{
 "cells": [
  {
   "cell_type": "code",
   "execution_count": 2,
   "id": "cc937cd9",
   "metadata": {},
   "outputs": [],
   "source": [
    "import pandas as pd"
   ]
  },
  {
   "cell_type": "code",
   "execution_count": 3,
   "id": "1b1a060b",
   "metadata": {},
   "outputs": [
    {
     "data": {
      "text/html": [
       "<div>\n",
       "<style scoped>\n",
       "    .dataframe tbody tr th:only-of-type {\n",
       "        vertical-align: middle;\n",
       "    }\n",
       "\n",
       "    .dataframe tbody tr th {\n",
       "        vertical-align: top;\n",
       "    }\n",
       "\n",
       "    .dataframe thead th {\n",
       "        text-align: right;\n",
       "    }\n",
       "</style>\n",
       "<table border=\"1\" class=\"dataframe\">\n",
       "  <thead>\n",
       "    <tr style=\"text-align: right;\">\n",
       "      <th></th>\n",
       "      <th>Review</th>\n",
       "      <th>Sentiment</th>\n",
       "    </tr>\n",
       "  </thead>\n",
       "  <tbody>\n",
       "    <tr>\n",
       "      <th>0</th>\n",
       "      <td>Wow!!! This product is absolutely amazing! I l...</td>\n",
       "      <td>Positive</td>\n",
       "    </tr>\n",
       "    <tr>\n",
       "      <th>1</th>\n",
       "      <td>Ugh, such a horrible experience. Never buying ...</td>\n",
       "      <td>Negative</td>\n",
       "    </tr>\n",
       "    <tr>\n",
       "      <th>2</th>\n",
       "      <td>Not bad, but not great either. It’s okay for t...</td>\n",
       "      <td>Neutral</td>\n",
       "    </tr>\n",
       "    <tr>\n",
       "      <th>3</th>\n",
       "      <td>Can't believe this is happening!!! 😱 Ordered a...</td>\n",
       "      <td>Negative</td>\n",
       "    </tr>\n",
       "    <tr>\n",
       "      <th>4</th>\n",
       "      <td>Thank you for your fast delivery! 🚚 I'm super ...</td>\n",
       "      <td>Positive</td>\n",
       "    </tr>\n",
       "  </tbody>\n",
       "</table>\n",
       "</div>"
      ],
      "text/plain": [
       "                                              Review Sentiment\n",
       "0  Wow!!! This product is absolutely amazing! I l...  Positive\n",
       "1  Ugh, such a horrible experience. Never buying ...  Negative\n",
       "2  Not bad, but not great either. It’s okay for t...   Neutral\n",
       "3  Can't believe this is happening!!! 😱 Ordered a...  Negative\n",
       "4  Thank you for your fast delivery! 🚚 I'm super ...  Positive"
      ]
     },
     "execution_count": 3,
     "metadata": {},
     "output_type": "execute_result"
    }
   ],
   "source": [
    "data = pd.read_excel(r\"data/sentiment_preprocessing.xlsx\")\n",
    "data.head(5)"
   ]
  },
  {
   "cell_type": "code",
   "execution_count": 5,
   "id": "11319d92",
   "metadata": {},
   "outputs": [
    {
     "data": {
      "text/plain": [
       "0"
      ]
     },
     "execution_count": 5,
     "metadata": {},
     "output_type": "execute_result"
    }
   ],
   "source": [
    "data.duplicated().sum()"
   ]
  },
  {
   "cell_type": "code",
   "execution_count": 6,
   "id": "722672bb",
   "metadata": {},
   "outputs": [
    {
     "data": {
      "text/plain": [
       "Review       0\n",
       "Sentiment    0\n",
       "dtype: int64"
      ]
     },
     "execution_count": 6,
     "metadata": {},
     "output_type": "execute_result"
    }
   ],
   "source": [
    "data.isnull().sum()"
   ]
  },
  {
   "cell_type": "code",
   "execution_count": 8,
   "id": "34e8735e",
   "metadata": {},
   "outputs": [
    {
     "name": "stdout",
     "output_type": "stream",
     "text": [
      "<class 'pandas.core.frame.DataFrame'>\n",
      "RangeIndex: 57 entries, 0 to 56\n",
      "Data columns (total 2 columns):\n",
      " #   Column     Non-Null Count  Dtype \n",
      "---  ------     --------------  ----- \n",
      " 0   Review     57 non-null     object\n",
      " 1   Sentiment  57 non-null     object\n",
      "dtypes: object(2)\n",
      "memory usage: 1.0+ KB\n"
     ]
    }
   ],
   "source": [
    "data.info()"
   ]
  },
  {
   "cell_type": "code",
   "execution_count": 9,
   "id": "6ea4d46b",
   "metadata": {},
   "outputs": [
    {
     "data": {
      "text/plain": [
       "Sentiment\n",
       "Positive    29\n",
       "Negative    25\n",
       "Neutral      3\n",
       "Name: count, dtype: int64"
      ]
     },
     "execution_count": 9,
     "metadata": {},
     "output_type": "execute_result"
    }
   ],
   "source": [
    "data['Sentiment'].value_counts()"
   ]
  },
  {
   "cell_type": "markdown",
   "id": "103b6bc9",
   "metadata": {},
   "source": [
    "## Text Preprocessing"
   ]
  },
  {
   "cell_type": "markdown",
   "id": "86f9bea8",
   "metadata": {},
   "source": [
    "### 1. Lower casing"
   ]
  },
  {
   "cell_type": "code",
   "execution_count": 12,
   "id": "ff6c8bed",
   "metadata": {},
   "outputs": [
    {
     "data": {
      "text/plain": [
       "0    wow!!! this product is absolutely amazing! i l...\n",
       "1    ugh, such a horrible experience. never buying ...\n",
       "2    not bad, but not great either. it’s okay for t...\n",
       "3    can't believe this is happening!!! 😱 ordered a...\n",
       "4    thank you for your fast delivery! 🚚 i'm super ...\n",
       "Name: Review, dtype: object"
      ]
     },
     "execution_count": 12,
     "metadata": {},
     "output_type": "execute_result"
    }
   ],
   "source": [
    "data['Review'] = data['Review'].str.lower()\n",
    "data.Review.head()"
   ]
  },
  {
   "cell_type": "markdown",
   "id": "781c8629",
   "metadata": {},
   "source": [
    "### 2. Removing HTML tags"
   ]
  },
  {
   "cell_type": "code",
   "execution_count": 15,
   "id": "fb25aca2",
   "metadata": {},
   "outputs": [],
   "source": [
    "import re\n",
    "def remove_html_tags(text):\n",
    "    pattern = re.compile('<.*?>')\n",
    "    return pattern.sub(r\"\",text)"
   ]
  },
  {
   "cell_type": "code",
   "execution_count": 16,
   "id": "378b1843",
   "metadata": {},
   "outputs": [
    {
     "data": {
      "text/plain": [
       "0    wow!!! this product is absolutely amazing! i l...\n",
       "1    ugh, such a horrible experience. never buying ...\n",
       "2    not bad, but not great either. it’s okay for t...\n",
       "3    can't believe this is happening!!! 😱 ordered a...\n",
       "4    thank you for your fast delivery! 🚚 i'm super ...\n",
       "Name: Review, dtype: object"
      ]
     },
     "execution_count": 16,
     "metadata": {},
     "output_type": "execute_result"
    }
   ],
   "source": [
    "data['Review'] = data['Review'].apply(remove_html_tags)\n",
    "data.Review.head()"
   ]
  },
  {
   "cell_type": "markdown",
   "id": "85dde40e",
   "metadata": {},
   "source": [
    "### 3. Removing URL's"
   ]
  },
  {
   "cell_type": "code",
   "execution_count": 17,
   "id": "29023b7e",
   "metadata": {},
   "outputs": [],
   "source": [
    "import re\n",
    "def remove_urls(text):\n",
    "    url_pattern = re.compile(r'https?://\\S+|www\\.\\S+')\n",
    "    return url_pattern.sub(r\"\", text)"
   ]
  },
  {
   "cell_type": "code",
   "execution_count": 18,
   "id": "9b229b95",
   "metadata": {},
   "outputs": [],
   "source": [
    "data['Review'] = data['Review'].apply(remove_urls)"
   ]
  },
  {
   "cell_type": "markdown",
   "id": "b8769b70",
   "metadata": {},
   "source": [
    "### 4. Removing Punctuation"
   ]
  },
  {
   "cell_type": "code",
   "execution_count": 19,
   "id": "1dc49e14",
   "metadata": {},
   "outputs": [
    {
     "data": {
      "text/plain": [
       "'!\"#$%&\\'()*+,-./:;<=>?@[\\\\]^_`{|}~'"
      ]
     },
     "execution_count": 19,
     "metadata": {},
     "output_type": "execute_result"
    }
   ],
   "source": [
    "import string\n",
    "string.punctuation"
   ]
  },
  {
   "cell_type": "code",
   "execution_count": 20,
   "id": "438871cb",
   "metadata": {},
   "outputs": [],
   "source": [
    "exclude = string.punctuation\n",
    "def remove_punctuation(text):\n",
    "    return text.translate(str.maketrans('','',exclude))"
   ]
  },
  {
   "cell_type": "code",
   "execution_count": 21,
   "id": "02b3e0c5",
   "metadata": {},
   "outputs": [
    {
     "data": {
      "text/plain": [
       "0    wow this product is absolutely amazing i love ...\n",
       "1    ugh such a horrible experience never buying fr...\n",
       "2    not bad but not great either it’s okay for the...\n",
       "3    cant believe this is happening 😱 ordered a pac...\n",
       "4    thank you for your fast delivery 🚚 im super im...\n",
       "Name: Review, dtype: object"
      ]
     },
     "execution_count": 21,
     "metadata": {},
     "output_type": "execute_result"
    }
   ],
   "source": [
    "data['Review'] =  data['Review'].apply(remove_punctuation)\n",
    "data['Review'].head()"
   ]
  },
  {
   "cell_type": "markdown",
   "id": "991a7af7",
   "metadata": {},
   "source": [
    "1. **`str.maketrans('', '', exclude)`**:\n",
    "   - `str.maketrans()` is a method that creates a translation table for character substitution or removal.\n",
    "   - The three arguments are:\n",
    "     - **First argument (`''`)**: Specifies the characters to replace. Since this is empty, no replacement is done.\n",
    "     - **Second argument (`''`)**: Specifies the characters to replace them with. Since this is empty, no replacement happens.\n",
    "     - **Third argument (`exclude`)**: Contains the characters to be removed.\n",
    "   - This means that the `exclude` characters will be mapped for removal.\n",
    "\n",
    "2. **`text.translate(...)`**:\n",
    "   - The `translate()` method applies the translation table generated by `str.maketrans()` to the string `text`.\n",
    "   - Any character found in `exclude` is removed from the `text`.\n"
   ]
  },
  {
   "cell_type": "markdown",
   "id": "bf01fb14",
   "metadata": {},
   "source": [
    "### 5. Spelling Correction"
   ]
  },
  {
   "cell_type": "code",
   "execution_count": 23,
   "id": "9023d158",
   "metadata": {},
   "outputs": [],
   "source": [
    "from textblob import TextBlob\n",
    "\n",
    "def correct_spell(text):\n",
    "    textblob = TextBlob(text)\n",
    "    return str(TextBlob(text).correct())"
   ]
  },
  {
   "cell_type": "code",
   "execution_count": 25,
   "id": "00fe3253",
   "metadata": {},
   "outputs": [
    {
     "data": {
      "text/plain": [
       "0    now this product is absolutely amazing i love ...\n",
       "1    ugh such a horrible experience never buying fr...\n",
       "2    not bad but not great either it’s okay for the...\n",
       "3    can believe this is happening 😱 ordered a pack...\n",
       "4    thank you for your fast delivery 🚚 in super im...\n",
       "5    org this pp keeps crashing 😠 what a piece of j...\n",
       "6    i love programming she said and honestly i agr...\n",
       "7    avoid this place at all costs 🤮 the food was a...\n",
       "Name: Review, dtype: object"
      ]
     },
     "execution_count": 25,
     "metadata": {},
     "output_type": "execute_result"
    }
   ],
   "source": [
    "data['Review'] = data['Review'].apply(correct_spell)\n",
    "data.Review.head(8)"
   ]
  },
  {
   "cell_type": "markdown",
   "id": "8f1feea3",
   "metadata": {},
   "source": [
    "### 6. Removing stop words"
   ]
  },
  {
   "cell_type": "code",
   "execution_count": 26,
   "id": "88c9483b",
   "metadata": {},
   "outputs": [
    {
     "data": {
      "text/plain": [
       "['i',\n",
       " 'me',\n",
       " 'my',\n",
       " 'myself',\n",
       " 'we',\n",
       " 'our',\n",
       " 'ours',\n",
       " 'ourselves',\n",
       " 'you',\n",
       " \"you're\",\n",
       " \"you've\",\n",
       " \"you'll\",\n",
       " \"you'd\",\n",
       " 'your',\n",
       " 'yours',\n",
       " 'yourself',\n",
       " 'yourselves',\n",
       " 'he',\n",
       " 'him',\n",
       " 'his',\n",
       " 'himself',\n",
       " 'she',\n",
       " \"she's\",\n",
       " 'her',\n",
       " 'hers',\n",
       " 'herself',\n",
       " 'it',\n",
       " \"it's\",\n",
       " 'its',\n",
       " 'itself',\n",
       " 'they',\n",
       " 'them',\n",
       " 'their',\n",
       " 'theirs',\n",
       " 'themselves',\n",
       " 'what',\n",
       " 'which',\n",
       " 'who',\n",
       " 'whom',\n",
       " 'this',\n",
       " 'that',\n",
       " \"that'll\",\n",
       " 'these',\n",
       " 'those',\n",
       " 'am',\n",
       " 'is',\n",
       " 'are',\n",
       " 'was',\n",
       " 'were',\n",
       " 'be',\n",
       " 'been',\n",
       " 'being',\n",
       " 'have',\n",
       " 'has',\n",
       " 'had',\n",
       " 'having',\n",
       " 'do',\n",
       " 'does',\n",
       " 'did',\n",
       " 'doing',\n",
       " 'a',\n",
       " 'an',\n",
       " 'the',\n",
       " 'and',\n",
       " 'but',\n",
       " 'if',\n",
       " 'or',\n",
       " 'because',\n",
       " 'as',\n",
       " 'until',\n",
       " 'while',\n",
       " 'of',\n",
       " 'at',\n",
       " 'by',\n",
       " 'for',\n",
       " 'with',\n",
       " 'about',\n",
       " 'against',\n",
       " 'between',\n",
       " 'into',\n",
       " 'through',\n",
       " 'during',\n",
       " 'before',\n",
       " 'after',\n",
       " 'above',\n",
       " 'below',\n",
       " 'to',\n",
       " 'from',\n",
       " 'up',\n",
       " 'down',\n",
       " 'in',\n",
       " 'out',\n",
       " 'on',\n",
       " 'off',\n",
       " 'over',\n",
       " 'under',\n",
       " 'again',\n",
       " 'further',\n",
       " 'then',\n",
       " 'once',\n",
       " 'here',\n",
       " 'there',\n",
       " 'when',\n",
       " 'where',\n",
       " 'why',\n",
       " 'how',\n",
       " 'all',\n",
       " 'any',\n",
       " 'both',\n",
       " 'each',\n",
       " 'few',\n",
       " 'more',\n",
       " 'most',\n",
       " 'other',\n",
       " 'some',\n",
       " 'such',\n",
       " 'no',\n",
       " 'nor',\n",
       " 'not',\n",
       " 'only',\n",
       " 'own',\n",
       " 'same',\n",
       " 'so',\n",
       " 'than',\n",
       " 'too',\n",
       " 'very',\n",
       " 's',\n",
       " 't',\n",
       " 'can',\n",
       " 'will',\n",
       " 'just',\n",
       " 'don',\n",
       " \"don't\",\n",
       " 'should',\n",
       " \"should've\",\n",
       " 'now',\n",
       " 'd',\n",
       " 'll',\n",
       " 'm',\n",
       " 'o',\n",
       " 're',\n",
       " 've',\n",
       " 'y',\n",
       " 'ain',\n",
       " 'aren',\n",
       " \"aren't\",\n",
       " 'couldn',\n",
       " \"couldn't\",\n",
       " 'didn',\n",
       " \"didn't\",\n",
       " 'doesn',\n",
       " \"doesn't\",\n",
       " 'hadn',\n",
       " \"hadn't\",\n",
       " 'hasn',\n",
       " \"hasn't\",\n",
       " 'haven',\n",
       " \"haven't\",\n",
       " 'isn',\n",
       " \"isn't\",\n",
       " 'ma',\n",
       " 'mightn',\n",
       " \"mightn't\",\n",
       " 'mustn',\n",
       " \"mustn't\",\n",
       " 'needn',\n",
       " \"needn't\",\n",
       " 'shan',\n",
       " \"shan't\",\n",
       " 'shouldn',\n",
       " \"shouldn't\",\n",
       " 'wasn',\n",
       " \"wasn't\",\n",
       " 'weren',\n",
       " \"weren't\",\n",
       " 'won',\n",
       " \"won't\",\n",
       " 'wouldn',\n",
       " \"wouldn't\"]"
      ]
     },
     "execution_count": 26,
     "metadata": {},
     "output_type": "execute_result"
    }
   ],
   "source": [
    "from nltk.corpus import stopwords\n",
    "stopwords.words('english')"
   ]
  },
  {
   "cell_type": "code",
   "execution_count": 28,
   "id": "74c22b96",
   "metadata": {},
   "outputs": [],
   "source": [
    "def remove_stopwords(text):\n",
    "    new_text = []\n",
    "    for word in text.split():\n",
    "        if word in stopwords.words('english'):\n",
    "            new_text.append(\"\")\n",
    "        else:\n",
    "            new_text.append(word)\n",
    "    x = new_text[:]\n",
    "    new_text.clear()\n",
    "    return \" \".join(x)"
   ]
  },
  {
   "cell_type": "code",
   "execution_count": 29,
   "id": "9da4eccd",
   "metadata": {},
   "outputs": [
    {
     "data": {
      "text/plain": [
       "0      product  absolutely amazing  love  😍 highly ...\n",
       "1    ugh   horrible experience never buying   store...\n",
       "2               bad   great either it’s okay   price 🤷\n",
       "3     believe   happening 😱 ordered  package  month...\n",
       "4    thank    fast delivery 🚚  super impressed   se...\n",
       "5    org  pp keeps crashing 😠   piece  june don’t w...\n",
       "6     love programming  said  honestly  agree patro...\n",
       "7    avoid  place   costs 🤮  food  awful   service ...\n",
       "8    fantastic book  put   📚 highly recommend   mys...\n",
       "9                it’s  another cadet nothing special 🤔\n",
       "Name: Review, dtype: object"
      ]
     },
     "execution_count": 29,
     "metadata": {},
     "output_type": "execute_result"
    }
   ],
   "source": [
    "data['Review'] = data['Review'].apply(remove_stopwords)\n",
    "data['Review'].head(10)"
   ]
  },
  {
   "cell_type": "markdown",
   "id": "fef3daae",
   "metadata": {},
   "source": [
    "### 7. Handling Emojis"
   ]
  },
  {
   "cell_type": "code",
   "execution_count": 31,
   "id": "fb98832a",
   "metadata": {},
   "outputs": [],
   "source": [
    "# This code will convert the emojis into their respective text representation\n",
    "\n",
    "# import emoji\n",
    "# print(emoji.demojize('product  absolutely amazing  love  😍 highly'))\n",
    "\n",
    "## Here we remove emojis since they are not necessary\n",
    "def remove_emoji(text):\n",
    "    emoji_pattern = re.compile(\"[\\U0001F600-\\U0001F64F|\\U0001F300-\\U0001F5FF|\\U0001F680-\\U0001F6FF|\\U0001F700-\\U0001F77F|\\U0001F780-\\U0001F7FF|\\U0001F800-\\U0001F8FF|\\U0001F900-\\U0001F9FF|\\U0001FA00-\\U0001FA6F|\\U0001FA70-\\U0001FAFF|\\U00002702-\\U000027B0]+\", flags=re.UNICODE)\n",
    "    return emoji_pattern.sub(r'', text)"
   ]
  },
  {
   "cell_type": "code",
   "execution_count": 32,
   "id": "2de8eb5f",
   "metadata": {},
   "outputs": [
    {
     "data": {
      "text/plain": [
       "0      product  absolutely amazing  love   highly r...\n",
       "1    ugh   horrible experience never buying   store...\n",
       "2                bad   great either it’s okay   price \n",
       "3     believe   happening  ordered  package  month ...\n",
       "4    thank    fast delivery   super impressed   ser...\n",
       "Name: Review, dtype: object"
      ]
     },
     "execution_count": 32,
     "metadata": {},
     "output_type": "execute_result"
    }
   ],
   "source": [
    "data['Review'] = data['Review'].apply(remove_emoji)\n",
    "data['Review'].head()"
   ]
  },
  {
   "cell_type": "code",
   "execution_count": null,
   "id": "0565a414",
   "metadata": {},
   "outputs": [],
   "source": []
  }
 ],
 "metadata": {
  "kernelspec": {
   "display_name": "Python 3 (ipykernel)",
   "language": "python",
   "name": "python3"
  },
  "language_info": {
   "codemirror_mode": {
    "name": "ipython",
    "version": 3
   },
   "file_extension": ".py",
   "mimetype": "text/x-python",
   "name": "python",
   "nbconvert_exporter": "python",
   "pygments_lexer": "ipython3",
   "version": "3.11.7"
  }
 },
 "nbformat": 4,
 "nbformat_minor": 5
}
